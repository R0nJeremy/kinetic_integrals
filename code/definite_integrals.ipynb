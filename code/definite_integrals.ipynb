{
 "cells": [
  {
   "cell_type": "code",
   "execution_count": 26,
   "metadata": {},
   "outputs": [],
   "source": [
    "import sympy as sp \n",
    "from sympy import sin, cos, exp, erf, erfc, pi, sqrt, factorial, factorial2, Integral, oo, Rational"
   ]
  },
  {
   "cell_type": "code",
   "execution_count": 27,
   "metadata": {},
   "outputs": [],
   "source": [
    "a, b, R, u, w, x, t, lm = sp.symbols(f'a b R u w x t \\lambda', positive=True, real = True)\n",
    "l, k, m, n = sp.symbols(f'l k m n', negative=False, integer = True)"
   ]
  },
  {
   "cell_type": "markdown",
   "metadata": {},
   "source": [
    "The solution of the definite Gaussian integral of the next form\n",
    "$$\n",
    "    G_k = \\int_{\\lambda}^{\\infty}dt\\,t^ke^{-t^2}=\\frac{1}{2}\n",
    "    \\Gamma\\left(\\frac{k+1}{2},\\lambda^2\\right),\n",
    "$$\n",
    "is tested"
   ]
  },
  {
   "cell_type": "code",
   "execution_count": 79,
   "metadata": {},
   "outputs": [
    {
     "data": {
      "text/latex": [
       "$\\displaystyle \\int\\limits_{\\lambda}^{\\infty} t^{10} e^{- t^{2}}\\, dt$"
      ],
      "text/plain": [
       "Integral(t**10*exp(-t**2), (t, \\lambda, oo))"
      ]
     },
     "execution_count": 79,
     "metadata": {},
     "output_type": "execute_result"
    }
   ],
   "source": [
    "k = 10\n",
    "Int_k = Integral(t**k*exp(-t**2),(t,lm,oo))\n",
    "Int_k"
   ]
  },
  {
   "cell_type": "code",
   "execution_count": 80,
   "metadata": {},
   "outputs": [
    {
     "data": {
      "text/latex": [
       "$\\displaystyle \\frac{\\left(32 \\lambda^{9} + 144 \\lambda^{7} + 504 \\lambda^{5} + 1260 \\lambda^{3} + 1890 \\lambda - 945 \\sqrt{\\pi} e^{\\lambda^{2}} \\operatorname{erf}{\\left(\\lambda \\right)} + 945 \\sqrt{\\pi} e^{\\lambda^{2}}\\right) e^{- \\lambda^{2}}}{64}$"
      ],
      "text/plain": [
       "(32*\\lambda**9 + 144*\\lambda**7 + 504*\\lambda**5 + 1260*\\lambda**3 + 1890*\\lambda - 945*sqrt(pi)*exp(\\lambda**2)*erf(\\lambda) + 945*sqrt(pi)*exp(\\lambda**2))*exp(-\\lambda**2)/64"
      ]
     },
     "execution_count": 80,
     "metadata": {},
     "output_type": "execute_result"
    }
   ],
   "source": [
    "Gk = Int_k.doit().simplify()\n",
    "Gk"
   ]
  },
  {
   "cell_type": "code",
   "execution_count": 82,
   "metadata": {},
   "outputs": [
    {
     "data": {
      "text/latex": [
       "$\\displaystyle \\frac{\\lambda \\left(\\lambda^{8} + \\frac{9 \\lambda^{6}}{2} + \\frac{63 \\lambda^{4}}{4} + \\frac{315 \\lambda^{2}}{8} + \\frac{945}{16}\\right) e^{- \\lambda^{2}}}{2} + \\frac{945 \\sqrt{\\pi} \\operatorname{erfc}{\\left(\\lambda \\right)}}{64}$"
      ],
      "text/plain": [
       "\\lambda*(\\lambda**8 + 9*\\lambda**6/2 + 63*\\lambda**4/4 + 315*\\lambda**2/8 + 945/16)*exp(-\\lambda**2)/2 + 945*sqrt(pi)*erfc(\\lambda)/64"
      ]
     },
     "execution_count": 82,
     "metadata": {},
     "output_type": "execute_result"
    }
   ],
   "source": [
    "Gk_an = sp.uppergamma(Rational(k+1,2),lm**2)/2\n",
    "Gk_an"
   ]
  },
  {
   "cell_type": "code",
   "execution_count": 84,
   "metadata": {},
   "outputs": [
    {
     "data": {
      "text/latex": [
       "$\\displaystyle \\frac{945 \\sqrt{\\pi} \\left(- \\operatorname{erf}{\\left(\\lambda \\right)} - \\operatorname{erfc}{\\left(\\lambda \\right)} + 1\\right)}{64}$"
      ],
      "text/plain": [
       "945*sqrt(pi)*(-erf(\\lambda) - erfc(\\lambda) + 1)/64"
      ]
     },
     "execution_count": 84,
     "metadata": {},
     "output_type": "execute_result"
    }
   ],
   "source": [
    "(Gk-Gk_an).simplify()"
   ]
  },
  {
   "cell_type": "markdown",
   "metadata": {},
   "source": [
    "The shifted Gaussian integrals have the next solution\n",
    "$$\n",
    "    I_{n,\\pm}=\\int_0^{\\infty}dx\\,x^n e^{-ax^2\\pm bx}=\n",
    "    \\frac{e^{\\lambda^2}}{2\\sqrt{a^{n+1}}}\\sum_{k=0}^{n}(\\pm1)^{n-k}C_k^n\n",
    "    \\vert\\lambda\\vert^{n-k}\\cdot\\Gamma\\left(\\frac{k+1}{2},\\lambda^2\\right),\n",
    "$$\n",
    "where \n",
    "$$\n",
    "    \\lambda = \\pm\\frac{b}{2\\sqrt{a}},\n",
    "$$\n",
    "and\n",
    "$$\n",
    "    C_k^n=\\frac{n!}{k!(n-k!)}.\n",
    "$$"
   ]
  },
  {
   "cell_type": "code",
   "execution_count": 111,
   "metadata": {},
   "outputs": [
    {
     "data": {
      "text/latex": [
       "$\\displaystyle \\int\\limits_{0}^{\\infty} x^{2} e^{- a x^{2} + b x}\\, dx$"
      ],
      "text/plain": [
       "Integral(x**2*exp(-a*x**2 + b*x), (x, 0, oo))"
      ]
     },
     "execution_count": 111,
     "metadata": {},
     "output_type": "execute_result"
    }
   ],
   "source": [
    "n = 2\n",
    "I_pos = Integral(x**n*exp(-a*x**2+b*x),(x,0,oo))\n",
    "I_neg = Integral(x**n*exp(-a*x**2-b*x),(x,0,oo))\n",
    "I_pos"
   ]
  },
  {
   "cell_type": "code",
   "execution_count": 112,
   "metadata": {},
   "outputs": [
    {
     "data": {
      "text/latex": [
       "$\\displaystyle \\frac{\\pi \\left(2 a + b^{2}\\right) e^{\\frac{b^{2}}{4 a}} + \\sqrt{\\pi} \\left(2 \\sqrt{a} b + \\sqrt{\\pi} \\left(2 a + b^{2}\\right) e^{\\frac{b^{2}}{4 a}} \\operatorname{erf}{\\left(\\frac{b}{2 \\sqrt{a}} \\right)}\\right)}{8 \\sqrt{\\pi} a^{\\frac{5}{2}}}$"
      ],
      "text/plain": [
       "(pi*(2*a + b**2)*exp(b**2/(4*a)) + sqrt(pi)*(2*sqrt(a)*b + sqrt(pi)*(2*a + b**2)*exp(b**2/(4*a))*erf(b/(2*sqrt(a)))))/(8*sqrt(pi)*a**(5/2))"
      ]
     },
     "execution_count": 112,
     "metadata": {},
     "output_type": "execute_result"
    }
   ],
   "source": [
    "In_pos = I_pos.doit().simplify()\n",
    "In_neg = I_neg.doit().simplify()\n",
    "In_pos"
   ]
  },
  {
   "cell_type": "code",
   "execution_count": 113,
   "metadata": {},
   "outputs": [
    {
     "data": {
      "text/latex": [
       "$\\displaystyle \\frac{4 a^{\\frac{3}{2}} - \\left(2 \\sqrt{a} - \\sqrt{\\pi} b e^{\\frac{b^{2}}{4 a}} \\operatorname{erfc}{\\left(\\frac{b}{2 \\sqrt{a}} \\right)}\\right) \\left(2 a + b^{2}\\right)}{8 a^{\\frac{5}{2}} b}$"
      ],
      "text/plain": [
       "(4*a**(3/2) - (2*sqrt(a) - sqrt(pi)*b*exp(b**2/(4*a))*erfc(b/(2*sqrt(a))))*(2*a + b**2))/(8*a**(5/2)*b)"
      ]
     },
     "execution_count": 113,
     "metadata": {},
     "output_type": "execute_result"
    }
   ],
   "source": [
    "In_neg"
   ]
  },
  {
   "cell_type": "code",
   "execution_count": 114,
   "metadata": {},
   "outputs": [],
   "source": [
    "def In_an_pos(n):\n",
    "    C = exp(lm**2)/(2*sqrt(a**(n+1)))\n",
    "    term = 0\n",
    "    for k in range(0,n+1):\n",
    "        n_choose_k = factorial(n)/(factorial(k)*factorial(n-k))\n",
    "        term += n_choose_k*lm**(n-k)*sp.uppergamma(Rational(k+1,2),lm**2)\n",
    "    res = C*term\n",
    "    res = res.subs([(lm,b/(2*sqrt(a)))]).simplify()\n",
    "    return res"
   ]
  },
  {
   "cell_type": "code",
   "execution_count": 115,
   "metadata": {},
   "outputs": [
    {
     "data": {
      "text/latex": [
       "$\\displaystyle \\frac{2 \\sqrt{\\pi} a^{\\frac{3}{2}} e^{\\frac{b^{2}}{4 a}} \\operatorname{erfc}{\\left(\\frac{b}{2 \\sqrt{a}} \\right)} + \\sqrt{\\pi} \\sqrt{a} b^{2} e^{\\frac{b^{2}}{4 a}} \\operatorname{erfc}{\\left(\\frac{b}{2 \\sqrt{a}} \\right)} + 6 a b}{8 a^{3}}$"
      ],
      "text/plain": [
       "(2*sqrt(pi)*a**(3/2)*exp(b**2/(4*a))*erfc(b/(2*sqrt(a))) + sqrt(pi)*sqrt(a)*b**2*exp(b**2/(4*a))*erfc(b/(2*sqrt(a))) + 6*a*b)/(8*a**3)"
      ]
     },
     "execution_count": 115,
     "metadata": {},
     "output_type": "execute_result"
    }
   ],
   "source": [
    "In_analytic_pos = In_an_pos(n)\n",
    "In_analytic_pos"
   ]
  },
  {
   "cell_type": "code",
   "execution_count": 118,
   "metadata": {},
   "outputs": [
    {
     "data": {
      "text/latex": [
       "$\\displaystyle \\frac{- \\sqrt{\\pi} a^{\\frac{5}{2}} \\cdot \\left(2 \\sqrt{\\pi} a^{\\frac{3}{2}} e^{\\frac{b^{2}}{4 a}} \\operatorname{erfc}{\\left(\\frac{b}{2 \\sqrt{a}} \\right)} + \\sqrt{\\pi} \\sqrt{a} b^{2} e^{\\frac{b^{2}}{4 a}} \\operatorname{erfc}{\\left(\\frac{b}{2 \\sqrt{a}} \\right)} + 6 a b\\right) + a^{3} \\left(\\pi \\left(2 a + b^{2}\\right) e^{\\frac{b^{2}}{4 a}} + \\sqrt{\\pi} \\left(2 \\sqrt{a} b + \\sqrt{\\pi} \\left(2 a + b^{2}\\right) e^{\\frac{b^{2}}{4 a}} \\operatorname{erf}{\\left(\\frac{b}{2 \\sqrt{a}} \\right)}\\right)\\right)}{8 \\sqrt{\\pi} a^{\\frac{11}{2}}}$"
      ],
      "text/plain": [
       "(-sqrt(pi)*a**(5/2)*(2*sqrt(pi)*a**(3/2)*exp(b**2/(4*a))*erfc(b/(2*sqrt(a))) + sqrt(pi)*sqrt(a)*b**2*exp(b**2/(4*a))*erfc(b/(2*sqrt(a))) + 6*a*b) + a**3*(pi*(2*a + b**2)*exp(b**2/(4*a)) + sqrt(pi)*(2*sqrt(a)*b + sqrt(pi)*(2*a + b**2)*exp(b**2/(4*a))*erf(b/(2*sqrt(a))))))/(8*sqrt(pi)*a**(11/2))"
      ]
     },
     "execution_count": 118,
     "metadata": {},
     "output_type": "execute_result"
    }
   ],
   "source": [
    "(In_pos-In_analytic_pos).simplify()"
   ]
  },
  {
   "cell_type": "code",
   "execution_count": null,
   "metadata": {},
   "outputs": [],
   "source": []
  }
 ],
 "metadata": {
  "kernelspec": {
   "display_name": "sci",
   "language": "python",
   "name": "python3"
  },
  "language_info": {
   "codemirror_mode": {
    "name": "ipython",
    "version": 3
   },
   "file_extension": ".py",
   "mimetype": "text/x-python",
   "name": "python",
   "nbconvert_exporter": "python",
   "pygments_lexer": "ipython3",
   "version": "3.11.5"
  }
 },
 "nbformat": 4,
 "nbformat_minor": 2
}
