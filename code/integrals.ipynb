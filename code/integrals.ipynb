{
 "cells": [
  {
   "cell_type": "code",
   "execution_count": 348,
   "metadata": {},
   "outputs": [],
   "source": [
    "import sympy as sp \n",
    "from sympy import sin, cos, exp, Integral, oo, Rational, pi, sqrt, factorial, factorial2"
   ]
  },
  {
   "cell_type": "code",
   "execution_count": 263,
   "metadata": {},
   "outputs": [],
   "source": [
    "a, b, R, u, w, x, t, lm = sp.symbols(f'a b R u w x t \\lambda', positive=True, real = True)\n",
    "l, k, m = sp.symbols(f'l k m', negative=False, integer = True)"
   ]
  },
  {
   "cell_type": "code",
   "execution_count": 264,
   "metadata": {},
   "outputs": [],
   "source": [
    "def Cnk(n,k):\n",
    "    if k>n:\n",
    "        return \"n has to be larger than k\"\n",
    "    else:\n",
    "        return sp.factorial(n)/(sp.factorial(k)*sp.factorial(n-k))"
   ]
  },
  {
   "cell_type": "code",
   "execution_count": 265,
   "metadata": {},
   "outputs": [
    {
     "data": {
      "text/latex": [
       "$\\displaystyle \\int\\limits_{\\lambda}^{\\infty} e^{- t^{2}}\\, dt$"
      ],
      "text/plain": [
       "Integral(exp(-t**2), (t, \\lambda, oo))"
      ]
     },
     "execution_count": 265,
     "metadata": {},
     "output_type": "execute_result"
    }
   ],
   "source": [
    "l=0\n",
    "Ip = Integral(t**(l)*exp(-t**2), (t,lm,oo))\n",
    "Im = Integral(t**(l)*exp(-t**2), (t,-lm,oo))\n",
    "Ip"
   ]
  },
  {
   "cell_type": "code",
   "execution_count": 266,
   "metadata": {},
   "outputs": [
    {
     "data": {
      "text/latex": [
       "$\\displaystyle \\frac{\\sqrt{\\pi} \\left(1 - \\operatorname{erf}{\\left(\\lambda \\right)}\\right)}{2}$"
      ],
      "text/plain": [
       "sqrt(pi)*(1 - erf(\\lambda))/2"
      ]
     },
     "execution_count": 266,
     "metadata": {},
     "output_type": "execute_result"
    }
   ],
   "source": [
    "Ip_res = Ip.doit().simplify()\n",
    "Im_res = Im.doit().simplify()\n",
    "Ip_res"
   ]
  },
  {
   "cell_type": "code",
   "execution_count": 267,
   "metadata": {},
   "outputs": [
    {
     "data": {
      "text/latex": [
       "$\\displaystyle \\frac{\\sqrt{\\pi} \\left(\\operatorname{erf}{\\left(\\lambda \\right)} + 1\\right)}{2}$"
      ],
      "text/plain": [
       "sqrt(pi)*(erf(\\lambda) + 1)/2"
      ]
     },
     "execution_count": 267,
     "metadata": {},
     "output_type": "execute_result"
    }
   ],
   "source": [
    "G0p = sp.sqrt(sp.pi)*(1+sp.erf(lm))/2\n",
    "G0m = sp.sqrt(sp.pi)*(1-sp.erf(lm))/2\n",
    "G1 = sp.exp(-lm**2)/2\n",
    "G0p"
   ]
  },
  {
   "cell_type": "code",
   "execution_count": 268,
   "metadata": {},
   "outputs": [],
   "source": [
    "def G_pos(n):\n",
    "    o = n/2 - int(n/2)\n",
    "    p = int(n/2 - o)\n",
    "    if o == 0:\n",
    "        T1 = sp.factorial2(2*p-1)*G0p / (2**p)\n",
    "        T2 = 0\n",
    "        for j in range(1,p+1):\n",
    "            T2 += sp.factorial2(2*p-1)*lm**(2*p-2*j+1)/(sp.factorial2(2*p-2*j+1)*2**(j-1))\n",
    "        T2 *= G1    \n",
    "        return T1+T2\n",
    "    else:\n",
    "        T = 0\n",
    "        for j in range(1,p+2):\n",
    "            T += sp.factorial2(2*p)*lm**(2*p-2*j+2)/(sp.factorial2(2*p-2*j+2)*2**(j-1))\n",
    "        T *= G1    \n",
    "        return T    \n",
    "\n",
    "def G_neg(n):\n",
    "    o = n/2 - int(n/2)\n",
    "    p = int(n/2 - o)\n",
    "    if o == 0:\n",
    "        T1 = sp.factorial2(2*p-1)*G0m / (2**p)\n",
    "        T2 = 0\n",
    "        for j in range(1,p+1):\n",
    "            T2 += sp.factorial2(2*p-1)*lm**(2*p-2*j+1)/(sp.factorial2(2*p-2*j+1)*2**(j-1))\n",
    "        T2 *= G1    \n",
    "        return T1-T2\n",
    "    else:\n",
    "        T = 0\n",
    "        for j in range(1,p+2):\n",
    "            T += sp.factorial2(2*p)*lm**(2*p-2*j+2)/(sp.factorial2(2*p-2*j+2)*2**(j-1))\n",
    "        T *= G1    \n",
    "        return T    "
   ]
  },
  {
   "cell_type": "code",
   "execution_count": 269,
   "metadata": {},
   "outputs": [
    {
     "data": {
      "text/latex": [
       "$\\displaystyle \\frac{\\sqrt{\\pi} \\left(\\operatorname{erf}{\\left(\\lambda \\right)} + 1\\right)}{2}$"
      ],
      "text/plain": [
       "sqrt(pi)*(erf(\\lambda) + 1)/2"
      ]
     },
     "execution_count": 269,
     "metadata": {},
     "output_type": "execute_result"
    }
   ],
   "source": [
    "G_pos(l)"
   ]
  },
  {
   "cell_type": "code",
   "execution_count": 341,
   "metadata": {},
   "outputs": [
    {
     "data": {
      "text/latex": [
       "$\\displaystyle \\int\\limits_{0}^{\\infty} x^{5} \\left(e^{b x} - e^{- b x}\\right) e^{- a x^{2}}\\, dx$"
      ],
      "text/plain": [
       "Integral(x**5*(exp(b*x) - exp(-b*x))*exp(-a*x**2), (x, 0, oo))"
      ]
     },
     "execution_count": 341,
     "metadata": {},
     "output_type": "execute_result"
    }
   ],
   "source": [
    "n = 5\n",
    "I_full_p = Integral(x**n*exp(-a*x**2)*(exp(b*x)+exp(-b*x)),(x,0,oo))\n",
    "I_full_n = Integral(x**n*exp(-a*x**2)*(exp(b*x)-exp(-b*x)),(x,0,oo))\n",
    "I_full_n"
   ]
  },
  {
   "cell_type": "code",
   "execution_count": 342,
   "metadata": {},
   "outputs": [
    {
     "data": {
      "text/latex": [
       "$\\displaystyle \\frac{\\sqrt{\\pi} \\lambda \\left(60 a^{2} \\operatorname{erf}{\\left(\\lambda \\right)} + 60 a^{2} \\operatorname{erfc}{\\left(\\lambda \\right)} + 60 a^{2} + 20 a b^{2} \\operatorname{erf}{\\left(\\lambda \\right)} + 20 a b^{2} \\operatorname{erfc}{\\left(\\lambda \\right)} + 20 a b^{2} + b^{4} \\operatorname{erf}{\\left(\\lambda \\right)} + b^{4} \\operatorname{erfc}{\\left(\\lambda \\right)} + b^{4}\\right) e^{\\lambda^{2}}}{32 a^{5}}$"
      ],
      "text/plain": [
       "sqrt(pi)*\\lambda*(60*a**2*erf(\\lambda) + 60*a**2*erfc(\\lambda) + 60*a**2 + 20*a*b**2*erf(\\lambda) + 20*a*b**2*erfc(\\lambda) + 20*a*b**2 + b**4*erf(\\lambda) + b**4*erfc(\\lambda) + b**4)*exp(\\lambda**2)/(32*a**5)"
      ]
     },
     "execution_count": 342,
     "metadata": {},
     "output_type": "execute_result"
    }
   ],
   "source": [
    "I_full_p_res = I_full_p.doit().simplify().subs([(b/(2*sp.sqrt(a)),lm)])\n",
    "I_full_n_res = I_full_n.doit().simplify().subs([(b/(2*sp.sqrt(a)),lm)])\n",
    "I_full_n_res.simplify()"
   ]
  },
  {
   "cell_type": "code",
   "execution_count": 343,
   "metadata": {},
   "outputs": [],
   "source": [
    "def I_an_pos(n):\n",
    "    C = exp(lm**2)/sp.sqrt(a**(n+1))\n",
    "    T = 0\n",
    "    for k in range(0,n+1):        \n",
    "        brac = G_pos(k)+(-1)**(n-k)*G_neg(k)\n",
    "        T += Cnk(n,k)*lm**(n-k)*brac\n",
    "    return (C*T).simplify()\n",
    "\n",
    "def I_an_neg(n):\n",
    "    C = exp(lm**2)/sp.sqrt(a**(n+1))\n",
    "    T = 0\n",
    "    for k in range(0,n+1):\n",
    "        n_choose_k = sp.factorial(n)/(sp.factorial(k)*sp.factorial(n-k))\n",
    "        brac = G_pos(k)-(-1)**(n-k)*G_neg(k)\n",
    "        T += Cnk(n,k)*lm**(n-k)*brac\n",
    "    return (C*T).simplify()"
   ]
  },
  {
   "cell_type": "code",
   "execution_count": 344,
   "metadata": {},
   "outputs": [
    {
     "data": {
      "text/latex": [
       "$\\displaystyle \\frac{\\sqrt{\\pi} \\lambda \\left(4 \\lambda^{4} + 20 \\lambda^{2} + 15\\right) e^{\\lambda^{2}}}{4 a^{3}}$"
      ],
      "text/plain": [
       "sqrt(pi)*\\lambda*(4*\\lambda**4 + 20*\\lambda**2 + 15)*exp(\\lambda**2)/(4*a**3)"
      ]
     },
     "execution_count": 344,
     "metadata": {},
     "output_type": "execute_result"
    }
   ],
   "source": [
    "I_an_neg(n)"
   ]
  },
  {
   "cell_type": "code",
   "execution_count": 345,
   "metadata": {},
   "outputs": [],
   "source": [
    "def I_even_pos(n):\n",
    "    o = n/2 - int(n/2)\n",
    "    p = int(n/2 - o)\n",
    "    if o != 0:\n",
    "        return \"Must be an even input\"\n",
    "    else:\n",
    "        C = sp.sqrt(sp.pi/a)*exp(lm**2)/(a**p)\n",
    "        T = 0\n",
    "        for k in range(0, p+1):\n",
    "            T += Cnk(2*p, 2*k)*sp.factorial2(2*k-1)*lm**(2*p-2*k)/(2**k)\n",
    "        return (C*T).simplify()\n",
    "\n",
    "def I_odd_pos(n):\n",
    "    o = n/2 - int(n/2)\n",
    "    p = int(n/2 - o)\n",
    "    if o == 0:\n",
    "        return \"Must be an odd input\"\n",
    "    else:\n",
    "        C = sp.sqrt(sp.pi)*exp(lm**2)/(a**(p+1))\n",
    "        T = 0\n",
    "        for k in range(0, p+1):\n",
    "            T += Cnk(2*p+1, 2*k)*sp.factorial2(2*k-1)*lm**(2*p-2*k+1)/(2**k)\n",
    "        return (C*T).simplify()"
   ]
  },
  {
   "cell_type": "code",
   "execution_count": 346,
   "metadata": {},
   "outputs": [
    {
     "data": {
      "text/plain": [
       "'Must be an even input'"
      ]
     },
     "execution_count": 346,
     "metadata": {},
     "output_type": "execute_result"
    }
   ],
   "source": [
    "I_even_pos(n)"
   ]
  },
  {
   "cell_type": "code",
   "execution_count": 347,
   "metadata": {},
   "outputs": [
    {
     "data": {
      "text/latex": [
       "$\\displaystyle \\frac{\\sqrt{\\pi} \\lambda \\left(4 \\lambda^{4} + 20 \\lambda^{2} + 15\\right) e^{\\lambda^{2}}}{4 a^{3}}$"
      ],
      "text/plain": [
       "sqrt(pi)*\\lambda*(4*\\lambda**4 + 20*\\lambda**2 + 15)*exp(\\lambda**2)/(4*a**3)"
      ]
     },
     "execution_count": 347,
     "metadata": {},
     "output_type": "execute_result"
    }
   ],
   "source": [
    "I_odd_pos(n)"
   ]
  },
  {
   "cell_type": "code",
   "execution_count": 385,
   "metadata": {},
   "outputs": [
    {
     "data": {
      "text/latex": [
       "$\\displaystyle \\frac{2 \\pi \\int\\limits_{0}^{\\infty} w^{8} \\left(e^{R u w} + e^{- R u w}\\right) e^{- a w^{2}}\\, dw}{R} - \\frac{2 \\pi \\int\\limits_{0}^{\\infty} w^{7} \\left(e^{R u w} - e^{- R u w}\\right) e^{- a w^{2}}\\, dw}{R^{2} u}$"
      ],
      "text/plain": [
       "2*pi*Integral(w**8*(exp(R*u*w) + exp(-R*u*w))*exp(-a*w**2), (w, 0, oo))/R - 2*pi*Integral(w**7*(exp(R*u*w) - exp(-R*u*w))*exp(-a*w**2), (w, 0, oo))/(R**2*u)"
      ]
     },
     "execution_count": 385,
     "metadata": {},
     "output_type": "execute_result"
    }
   ],
   "source": [
    "l=3\n",
    "CM_int = (2*pi/(R*u))*Integral(w**(2*l+1)*exp(-a*w**2)*(exp(R*u*w)-exp(-R*u*w)),(w,0,oo))\n",
    "CM_int_1 = (2*pi/R)*Integral(w**(2*l+2)*exp(-a*w**2)*(exp(R*u*w)+exp(-R*u*w)),(w,0,oo))-CM_int/R\n",
    "CM_int_1"
   ]
  },
  {
   "cell_type": "code",
   "execution_count": 386,
   "metadata": {},
   "outputs": [
    {
     "data": {
      "text/latex": [
       "$\\displaystyle \\frac{\\pi^{\\frac{3}{2}} R u^{2} \\left(R^{6} u^{6} + 54 R^{4} a u^{4} + 756 R^{2} a^{2} u^{2} + 2520 a^{3}\\right) e^{\\frac{R^{2} u^{2}}{4 a}}}{128 a^{\\frac{17}{2}}}$"
      ],
      "text/plain": [
       "pi**(3/2)*R*u**2*(R**6*u**6 + 54*R**4*a*u**4 + 756*R**2*a**2*u**2 + 2520*a**3)*exp(R**2*u**2/(4*a))/(128*a**(17/2))"
      ]
     },
     "execution_count": 386,
     "metadata": {},
     "output_type": "execute_result"
    }
   ],
   "source": [
    "CM_int_1.doit().simplify()"
   ]
  },
  {
   "cell_type": "code",
   "execution_count": 387,
   "metadata": {},
   "outputs": [],
   "source": [
    "def CM_int_0(l):\n",
    "    C = sqrt(pi/a)*pi*exp(lm**2)/(a**(l+1))\n",
    "    T = 0\n",
    "    for k in range(0,l+1):\n",
    "        T += Cnk(2*l+1,2*k)*factorial2(2*k-1)*lm**(2*l-2*k)/(2**k)\n",
    "    \n",
    "    res = (C*T).subs([(lm,R*u/(2*sqrt(a)))])\n",
    "    return res.simplify()\n",
    "\n",
    "def CM_int_1(l):\n",
    "    C = (2*pi/R)*sqrt(pi/a)*exp(lm**2)/(a**(l+1))\n",
    "    Bc = factorial2(2*l+1)/(2**(l+1))\n",
    "    T = 0\n",
    "    for k in range(0,l+1):\n",
    "        T += Cnk(2*l+1,2*k)*(factorial2(2*k-1)/(2**k))*lm**(2*l-2*k)*((2*l+2)*lm**2/(2*l-2*k+2)-1/2)\n",
    "    res = (C*(Bc+T)).subs([(lm,R*u/(2*sqrt(a)))])\n",
    "    return res.simplify()"
   ]
  },
  {
   "cell_type": "code",
   "execution_count": 388,
   "metadata": {},
   "outputs": [
    {
     "data": {
      "text/latex": [
       "$\\displaystyle \\frac{0.0078125 \\pi^{\\frac{3}{2}} R u^{2} \\cdot \\left(1.0 R^{6} u^{6} + 54.0 R^{4} a u^{4} + 756.0 R^{2} a^{2} u^{2} + 2520.0 a^{3}\\right) e^{\\frac{R^{2} u^{2}}{4 a}}}{a^{\\frac{17}{2}}}$"
      ],
      "text/plain": [
       "0.0078125*pi**(3/2)*R*u**2*(1.0*R**6*u**6 + 54.0*R**4*a*u**4 + 756.0*R**2*a**2*u**2 + 2520.0*a**3)*exp(R**2*u**2/(4*a))/a**(17/2)"
      ]
     },
     "execution_count": 388,
     "metadata": {},
     "output_type": "execute_result"
    }
   ],
   "source": [
    "CM_int_1(l)"
   ]
  },
  {
   "cell_type": "code",
   "execution_count": null,
   "metadata": {},
   "outputs": [],
   "source": []
  }
 ],
 "metadata": {
  "kernelspec": {
   "display_name": "sci",
   "language": "python",
   "name": "python3"
  },
  "language_info": {
   "codemirror_mode": {
    "name": "ipython",
    "version": 3
   },
   "file_extension": ".py",
   "mimetype": "text/x-python",
   "name": "python",
   "nbconvert_exporter": "python",
   "pygments_lexer": "ipython3",
   "version": "3.11.5"
  }
 },
 "nbformat": 4,
 "nbformat_minor": 2
}
