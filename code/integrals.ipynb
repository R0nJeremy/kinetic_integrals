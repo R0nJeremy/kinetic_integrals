{
 "cells": [
  {
   "cell_type": "code",
   "execution_count": 170,
   "metadata": {},
   "outputs": [],
   "source": [
    "import sympy as sp \n",
    "from sympy import sin, cos, exp, erf, pi, sqrt, factorial, factorial2, Integral, oo, Rational"
   ]
  },
  {
   "cell_type": "code",
   "execution_count": 171,
   "metadata": {},
   "outputs": [],
   "source": [
    "a, b, R, u, w, x, t, lm = sp.symbols(f'a b R u w x t \\lambda', positive=True, real = True)\n",
    "l, k, m, n = sp.symbols(f'l k m n', negative=False, integer = True)"
   ]
  },
  {
   "cell_type": "markdown",
   "metadata": {},
   "source": [
    "Test of the Gaussian integrals of $n$'th order\n",
    "$$\n",
    "    G_n(t)=\\int dt\\, t^n e^{-t^2},\n",
    "$$\n",
    "given by Equation (57) in the draft"
   ]
  },
  {
   "cell_type": "code",
   "execution_count": 229,
   "metadata": {},
   "outputs": [
    {
     "data": {
      "text/latex": [
       "$\\displaystyle \\int t^{6} e^{- t^{2}}\\, dt$"
      ],
      "text/plain": [
       "Integral(t**6*exp(-t**2), t)"
      ]
     },
     "execution_count": 229,
     "metadata": {},
     "output_type": "execute_result"
    }
   ],
   "source": [
    "n = 6\n",
    "gaussian = Integral(t**n*exp(-t**2),(t))\n",
    "gaussian"
   ]
  },
  {
   "cell_type": "code",
   "execution_count": 230,
   "metadata": {},
   "outputs": [
    {
     "data": {
      "text/latex": [
       "$\\displaystyle \\frac{\\left(- 8 t^{5} - 20 t^{3} - 30 t + 15 \\sqrt{\\pi} e^{t^{2}} \\operatorname{erf}{\\left(t \\right)}\\right) e^{- t^{2}}}{16}$"
      ],
      "text/plain": [
       "(-8*t**5 - 20*t**3 - 30*t + 15*sqrt(pi)*exp(t**2)*erf(t))*exp(-t**2)/16"
      ]
     },
     "execution_count": 230,
     "metadata": {},
     "output_type": "execute_result"
    }
   ],
   "source": [
    "res_computed = gaussian.doit().simplify()\n",
    "res_computed"
   ]
  },
  {
   "cell_type": "markdown",
   "metadata": {},
   "source": [
    "The code to check the formula"
   ]
  },
  {
   "cell_type": "code",
   "execution_count": 231,
   "metadata": {},
   "outputs": [],
   "source": [
    "# Equation (57) \n",
    "def o(k):\n",
    "    return k/2 - int(k/2)\n",
    "\n",
    "def Gn(n):\n",
    "    G0 = sqrt(pi)*erf(t)/2\n",
    "    G1 = -exp(-t**2)/2\n",
    "    C = factorial2(n-1)\n",
    "    factor_1 = (1-2*o(n))/sqrt(2**n)\n",
    "    factor_2 = 0\n",
    "    for j in range(1,int(n/2+o(n))+1):\n",
    "        factor_2 += t**(n-2*j+1)/(2**(j-1)*factorial2(n-2*j+1))\n",
    "    return C*(G0*factor_1+G1*factor_2)"
   ]
  },
  {
   "cell_type": "code",
   "execution_count": 232,
   "metadata": {},
   "outputs": [
    {
     "data": {
      "text/latex": [
       "$\\displaystyle 0.125 \\left(- 4.0 t^{5} - 10.0 t^{3} - 15.0 t + 7.5 \\sqrt{\\pi} e^{t^{2}} \\operatorname{erf}{\\left(t \\right)}\\right) e^{- t^{2}}$"
      ],
      "text/plain": [
       "0.125*(-4.0*t**5 - 10.0*t**3 - 15.0*t + 7.5*sqrt(pi)*exp(t**2)*erf(t))*exp(-t**2)"
      ]
     },
     "execution_count": 232,
     "metadata": {},
     "output_type": "execute_result"
    }
   ],
   "source": [
    "res_analytic = Gn(n).simplify()\n",
    "res_analytic"
   ]
  },
  {
   "cell_type": "code",
   "execution_count": 233,
   "metadata": {},
   "outputs": [
    {
     "data": {
      "text/latex": [
       "$\\displaystyle 0$"
      ],
      "text/plain": [
       "0"
      ]
     },
     "execution_count": 233,
     "metadata": {},
     "output_type": "execute_result"
    }
   ],
   "source": [
    "(res_computed-res_analytic).simplify()"
   ]
  },
  {
   "cell_type": "markdown",
   "metadata": {},
   "source": [
    "Shifted Gaussian integral of $n$'th order\n",
    "$$\n",
    "    I_n(\\pm) = \\int dx\\,x^n e^{-ax^2\\pm bx}\n",
    "$$\n",
    "The solution for this integral is given in Equation (58) in the draft"
   ]
  },
  {
   "cell_type": "code",
   "execution_count": 244,
   "metadata": {},
   "outputs": [
    {
     "data": {
      "text/latex": [
       "$\\displaystyle \\int x^{6} e^{- a x^{2} - b x}\\, dx$"
      ],
      "text/plain": [
       "Integral(x**6*exp(-a*x**2 - b*x), x)"
      ]
     },
     "execution_count": 244,
     "metadata": {},
     "output_type": "execute_result"
    }
   ],
   "source": [
    "n=6\n",
    "shifted_gaussian_pos = Integral(x**n*exp(-a*x**2+b*x),(x))\n",
    "shifted_gaussian_neg = Integral(x**n*exp(-a*x**2-b*x),(x))\n",
    "shifted_gaussian_neg"
   ]
  },
  {
   "cell_type": "code",
   "execution_count": 245,
   "metadata": {},
   "outputs": [
    {
     "data": {
      "text/latex": [
       "$\\displaystyle \\frac{\\left(120 \\sqrt{\\pi} a^{\\frac{75}{2}} e^{a x^{2} + \\frac{b^{2}}{4 a}} \\operatorname{erf}{\\left(\\frac{2 a x - b}{2 \\sqrt{a}} \\right)} + 180 \\sqrt{\\pi} a^{\\frac{73}{2}} b^{2} e^{a x^{2} + \\frac{b^{2}}{4 a}} \\operatorname{erf}{\\left(\\frac{2 a x - b}{2 \\sqrt{a}} \\right)} + 30 \\sqrt{\\pi} a^{\\frac{71}{2}} b^{4} e^{a x^{2} + \\frac{b^{2}}{4 a}} \\operatorname{erf}{\\left(\\frac{2 a x - b}{2 \\sqrt{a}} \\right)} + \\sqrt{\\pi} a^{\\frac{69}{2}} b^{6} e^{a x^{2} + \\frac{b^{2}}{4 a}} \\operatorname{erf}{\\left(\\frac{2 a x - b}{2 \\sqrt{a}} \\right)} - 64 a^{40} x^{5} e^{b x} - 32 a^{39} b x^{4} e^{b x} - 160 a^{39} x^{3} e^{b x} - 16 a^{38} b^{2} x^{3} e^{b x} - 144 a^{38} b x^{2} e^{b x} - 240 a^{38} x e^{b x} - 8 a^{37} b^{3} x^{2} e^{b x} - 96 a^{37} b^{2} x e^{b x} - 264 a^{37} b e^{b x} - 4 a^{36} b^{4} x e^{b x} - 56 a^{36} b^{3} e^{b x} - 2 a^{35} b^{5} e^{b x}\\right) e^{- a x^{2}}}{128 a^{41}}$"
      ],
      "text/plain": [
       "(120*sqrt(pi)*a**(75/2)*exp(a*x**2 + b**2/(4*a))*erf((2*a*x - b)/(2*sqrt(a))) + 180*sqrt(pi)*a**(73/2)*b**2*exp(a*x**2 + b**2/(4*a))*erf((2*a*x - b)/(2*sqrt(a))) + 30*sqrt(pi)*a**(71/2)*b**4*exp(a*x**2 + b**2/(4*a))*erf((2*a*x - b)/(2*sqrt(a))) + sqrt(pi)*a**(69/2)*b**6*exp(a*x**2 + b**2/(4*a))*erf((2*a*x - b)/(2*sqrt(a))) - 64*a**40*x**5*exp(b*x) - 32*a**39*b*x**4*exp(b*x) - 160*a**39*x**3*exp(b*x) - 16*a**38*b**2*x**3*exp(b*x) - 144*a**38*b*x**2*exp(b*x) - 240*a**38*x*exp(b*x) - 8*a**37*b**3*x**2*exp(b*x) - 96*a**37*b**2*x*exp(b*x) - 264*a**37*b*exp(b*x) - 4*a**36*b**4*x*exp(b*x) - 56*a**36*b**3*exp(b*x) - 2*a**35*b**5*exp(b*x))*exp(-a*x**2)/(128*a**41)"
      ]
     },
     "execution_count": 245,
     "metadata": {},
     "output_type": "execute_result"
    }
   ],
   "source": [
    "res_computed_shifted_pos = shifted_gaussian_pos.doit().simplify()\n",
    "res_computed_shifted_pos"
   ]
  },
  {
   "cell_type": "code",
   "execution_count": 246,
   "metadata": {},
   "outputs": [
    {
     "data": {
      "text/latex": [
       "$\\displaystyle \\frac{\\left(120 \\sqrt{\\pi} a^{\\frac{75}{2}} e^{a x^{2} + b x + \\frac{b^{2}}{4 a}} \\operatorname{erf}{\\left(\\frac{2 a x + b}{2 \\sqrt{a}} \\right)} + 180 \\sqrt{\\pi} a^{\\frac{73}{2}} b^{2} e^{a x^{2} + b x + \\frac{b^{2}}{4 a}} \\operatorname{erf}{\\left(\\frac{2 a x + b}{2 \\sqrt{a}} \\right)} + 30 \\sqrt{\\pi} a^{\\frac{71}{2}} b^{4} e^{a x^{2} + b x + \\frac{b^{2}}{4 a}} \\operatorname{erf}{\\left(\\frac{2 a x + b}{2 \\sqrt{a}} \\right)} + \\sqrt{\\pi} a^{\\frac{69}{2}} b^{6} e^{a x^{2} + b x + \\frac{b^{2}}{4 a}} \\operatorname{erf}{\\left(\\frac{2 a x + b}{2 \\sqrt{a}} \\right)} - 64 a^{40} x^{5} + 32 a^{39} b x^{4} - 160 a^{39} x^{3} - 16 a^{38} b^{2} x^{3} + 144 a^{38} b x^{2} - 240 a^{38} x + 8 a^{37} b^{3} x^{2} - 96 a^{37} b^{2} x + 264 a^{37} b - 4 a^{36} b^{4} x + 56 a^{36} b^{3} + 2 a^{35} b^{5}\\right) e^{- x \\left(a x + b\\right)}}{128 a^{41}}$"
      ],
      "text/plain": [
       "(120*sqrt(pi)*a**(75/2)*exp(a*x**2 + b*x + b**2/(4*a))*erf((2*a*x + b)/(2*sqrt(a))) + 180*sqrt(pi)*a**(73/2)*b**2*exp(a*x**2 + b*x + b**2/(4*a))*erf((2*a*x + b)/(2*sqrt(a))) + 30*sqrt(pi)*a**(71/2)*b**4*exp(a*x**2 + b*x + b**2/(4*a))*erf((2*a*x + b)/(2*sqrt(a))) + sqrt(pi)*a**(69/2)*b**6*exp(a*x**2 + b*x + b**2/(4*a))*erf((2*a*x + b)/(2*sqrt(a))) - 64*a**40*x**5 + 32*a**39*b*x**4 - 160*a**39*x**3 - 16*a**38*b**2*x**3 + 144*a**38*b*x**2 - 240*a**38*x + 8*a**37*b**3*x**2 - 96*a**37*b**2*x + 264*a**37*b - 4*a**36*b**4*x + 56*a**36*b**3 + 2*a**35*b**5)*exp(-x*(a*x + b))/(128*a**41)"
      ]
     },
     "execution_count": 246,
     "metadata": {},
     "output_type": "execute_result"
    }
   ],
   "source": [
    "res_computed_shifted_neg = shifted_gaussian_neg.doit().simplify()\n",
    "res_computed_shifted_neg"
   ]
  },
  {
   "cell_type": "markdown",
   "metadata": {},
   "source": [
    "The analytic formula for shifted Gaussian integral"
   ]
  },
  {
   "cell_type": "code",
   "execution_count": 247,
   "metadata": {},
   "outputs": [],
   "source": [
    "# Equation (58)\n",
    "def In(n):\n",
    "    C = exp(lm**2)/sqrt(a**(n+1))\n",
    "    term = 0\n",
    "    for k in range(0, n+1):\n",
    "        n_choose_k = factorial(n)/(factorial(k)*factorial(n-k))    \n",
    "        G = Gn(k).subs([(t,sqrt(a)*x-lm)])            \n",
    "        term += n_choose_k*lm**(n-k)*G        \n",
    "    return C*term\n",
    "\n",
    "def In_xp(n):\n",
    "    G0 = sqrt(pi)*erf(t)/2\n",
    "    G1 = -exp(-t**2)/2\n",
    "    C = exp(lm**2)/sqrt(a**(n+1))\n",
    "    term = 0\n",
    "    for k in range(0, n+1):\n",
    "        n_choose_k = factorial(n)/(factorial(k)*factorial(n-k))\n",
    "        T1 = (1-2*o(k))/sqrt(2**k)\n",
    "        T2 = 0\n",
    "        for j in range(1, int(k/2+o(k))+1):\n",
    "            T2 += t**(k-2*j+1)/(2**(j-1)*factorial2(k-2*j+1))\n",
    "        term += factorial2(k-1)*n_choose_k*lm**(n-k)*(T1*G0 + T2*G1)\n",
    "    res = (C*term).subs([(t,sqrt(a)*x-lm)])\n",
    "    return res   "
   ]
  },
  {
   "cell_type": "code",
   "execution_count": 248,
   "metadata": {},
   "outputs": [
    {
     "data": {
      "text/latex": [
       "$\\displaystyle \\frac{\\left(0.9375 \\sqrt{\\pi} a^{\\frac{75}{2}} e^{a x^{2} + b x + \\frac{b^{2}}{4 a}} \\operatorname{erf}{\\left(\\frac{2 a x + b}{2 \\sqrt{a}} \\right)} + 1.40625 \\sqrt{\\pi} a^{\\frac{73}{2}} b^{2} e^{a x^{2} + b x + \\frac{b^{2}}{4 a}} \\operatorname{erf}{\\left(\\frac{2 a x + b}{2 \\sqrt{a}} \\right)} + 0.234375 \\sqrt{\\pi} a^{\\frac{71}{2}} b^{4} e^{a x^{2} + b x + \\frac{b^{2}}{4 a}} \\operatorname{erf}{\\left(\\frac{2 a x + b}{2 \\sqrt{a}} \\right)} + 0.0078125 \\sqrt{\\pi} a^{\\frac{69}{2}} b^{6} e^{a x^{2} + b x + \\frac{b^{2}}{4 a}} \\operatorname{erf}{\\left(\\frac{2 a x + b}{2 \\sqrt{a}} \\right)} - 0.5 a^{40} x^{5} + 0.25 a^{39} b x^{4} - 1.25 a^{39} x^{3} - 0.125 a^{38} b^{2} x^{3} + 1.125 a^{38} b x^{2} - 1.875 a^{38} x + 0.0625 a^{37} b^{3} x^{2} - 0.75 a^{37} b^{2} x + 2.0625 a^{37} b - 0.03125 a^{36} b^{4} x + 0.4375 a^{36} b^{3} + 0.015625 a^{35} b^{5}\\right) e^{- x \\left(a x + b\\right)}}{a^{41}}$"
      ],
      "text/plain": [
       "(0.9375*sqrt(pi)*a**(75/2)*exp(a*x**2 + b*x + b**2/(4*a))*erf((2*a*x + b)/(2*sqrt(a))) + 1.40625*sqrt(pi)*a**(73/2)*b**2*exp(a*x**2 + b*x + b**2/(4*a))*erf((2*a*x + b)/(2*sqrt(a))) + 0.234375*sqrt(pi)*a**(71/2)*b**4*exp(a*x**2 + b*x + b**2/(4*a))*erf((2*a*x + b)/(2*sqrt(a))) + 0.0078125*sqrt(pi)*a**(69/2)*b**6*exp(a*x**2 + b*x + b**2/(4*a))*erf((2*a*x + b)/(2*sqrt(a))) - 0.5*a**40*x**5 + 0.25*a**39*b*x**4 - 1.25*a**39*x**3 - 0.125*a**38*b**2*x**3 + 1.125*a**38*b*x**2 - 1.875*a**38*x + 0.0625*a**37*b**3*x**2 - 0.75*a**37*b**2*x + 2.0625*a**37*b - 0.03125*a**36*b**4*x + 0.4375*a**36*b**3 + 0.015625*a**35*b**5)*exp(-x*(a*x + b))/a**41"
      ]
     },
     "execution_count": 248,
     "metadata": {},
     "output_type": "execute_result"
    }
   ],
   "source": [
    "In_pos = In(n).subs([(lm,b/(2*sqrt(a)))]).simplify()\n",
    "In_neg = In(n).subs([(lm,-b/(2*sqrt(a)))]).simplify()\n",
    "In_neg"
   ]
  },
  {
   "cell_type": "code",
   "execution_count": 249,
   "metadata": {},
   "outputs": [
    {
     "data": {
      "text/latex": [
       "$\\displaystyle 0$"
      ],
      "text/plain": [
       "0"
      ]
     },
     "execution_count": 249,
     "metadata": {},
     "output_type": "execute_result"
    }
   ],
   "source": [
    "(res_computed_shifted_neg-In_neg).simplify()\n",
    "(res_computed_shifted_pos-In_pos).simplify()"
   ]
  },
  {
   "cell_type": "code",
   "execution_count": 250,
   "metadata": {},
   "outputs": [
    {
     "data": {
      "text/latex": [
       "$\\displaystyle \\frac{\\left(0.9375 \\sqrt{\\pi} a^{\\frac{75}{2}} e^{a x^{2} + b x + \\frac{b^{2}}{4 a}} \\operatorname{erf}{\\left(\\frac{2 a x + b}{2 \\sqrt{a}} \\right)} + 1.40625 \\sqrt{\\pi} a^{\\frac{73}{2}} b^{2} e^{a x^{2} + b x + \\frac{b^{2}}{4 a}} \\operatorname{erf}{\\left(\\frac{2 a x + b}{2 \\sqrt{a}} \\right)} + 0.234375 \\sqrt{\\pi} a^{\\frac{71}{2}} b^{4} e^{a x^{2} + b x + \\frac{b^{2}}{4 a}} \\operatorname{erf}{\\left(\\frac{2 a x + b}{2 \\sqrt{a}} \\right)} + 0.0078125 \\sqrt{\\pi} a^{\\frac{69}{2}} b^{6} e^{a x^{2} + b x + \\frac{b^{2}}{4 a}} \\operatorname{erf}{\\left(\\frac{2 a x + b}{2 \\sqrt{a}} \\right)} - 0.5 a^{40} x^{5} + 0.25 a^{39} b x^{4} - 1.25 a^{39} x^{3} - 0.125 a^{38} b^{2} x^{3} + 1.125 a^{38} b x^{2} - 1.875 a^{38} x + 0.0625 a^{37} b^{3} x^{2} - 0.75 a^{37} b^{2} x + 2.0625 a^{37} b - 0.03125 a^{36} b^{4} x + 0.4375 a^{36} b^{3} + 0.015625 a^{35} b^{5}\\right) e^{- x \\left(a x + b\\right)}}{a^{41}}$"
      ],
      "text/plain": [
       "(0.9375*sqrt(pi)*a**(75/2)*exp(a*x**2 + b*x + b**2/(4*a))*erf((2*a*x + b)/(2*sqrt(a))) + 1.40625*sqrt(pi)*a**(73/2)*b**2*exp(a*x**2 + b*x + b**2/(4*a))*erf((2*a*x + b)/(2*sqrt(a))) + 0.234375*sqrt(pi)*a**(71/2)*b**4*exp(a*x**2 + b*x + b**2/(4*a))*erf((2*a*x + b)/(2*sqrt(a))) + 0.0078125*sqrt(pi)*a**(69/2)*b**6*exp(a*x**2 + b*x + b**2/(4*a))*erf((2*a*x + b)/(2*sqrt(a))) - 0.5*a**40*x**5 + 0.25*a**39*b*x**4 - 1.25*a**39*x**3 - 0.125*a**38*b**2*x**3 + 1.125*a**38*b*x**2 - 1.875*a**38*x + 0.0625*a**37*b**3*x**2 - 0.75*a**37*b**2*x + 2.0625*a**37*b - 0.03125*a**36*b**4*x + 0.4375*a**36*b**3 + 0.015625*a**35*b**5)*exp(-x*(a*x + b))/a**41"
      ]
     },
     "execution_count": 250,
     "metadata": {},
     "output_type": "execute_result"
    }
   ],
   "source": [
    "In_pos_2 = In_xp(n).subs([(lm,b/(2*sqrt(a)))]).simplify()\n",
    "In_neg_2 = In_xp(n).subs([(lm,-b/(2*sqrt(a)))]).simplify()\n",
    "In_neg_2"
   ]
  },
  {
   "cell_type": "code",
   "execution_count": 251,
   "metadata": {},
   "outputs": [
    {
     "data": {
      "text/latex": [
       "$\\displaystyle 0$"
      ],
      "text/plain": [
       "0"
      ]
     },
     "execution_count": 251,
     "metadata": {},
     "output_type": "execute_result"
    }
   ],
   "source": [
    "(res_computed_shifted_pos-In_pos_2).simplify()"
   ]
  },
  {
   "cell_type": "markdown",
   "metadata": {},
   "source": [
    "Now we check the solution of the definite form of the shifted Gaussian integral\n",
    "$$\n",
    "    I_n(\\pm) = \\int_0^{\\infty}dx\\,x^n e^{-ax^2\\pm bx},\n",
    "$$\n",
    "which is given by the Equation (63) in the draft"
   ]
  },
  {
   "cell_type": "code",
   "execution_count": 255,
   "metadata": {},
   "outputs": [
    {
     "data": {
      "text/latex": [
       "$\\displaystyle \\int\\limits_{0}^{\\infty} x^{3} e^{- a x^{2} - b x}\\, dx$"
      ],
      "text/plain": [
       "Integral(x**3*exp(-a*x**2 - b*x), (x, 0, oo))"
      ]
     },
     "execution_count": 255,
     "metadata": {},
     "output_type": "execute_result"
    }
   ],
   "source": [
    "n=3\n",
    "D_int_pos = Integral(x**n*exp(-a*x**2+b*x),(x,0,oo))\n",
    "D_int_neg = Integral(x**n*exp(-a*x**2-b*x),(x,0,oo))\n",
    "D_int_neg"
   ]
  },
  {
   "cell_type": "code",
   "execution_count": 259,
   "metadata": {},
   "outputs": [
    {
     "data": {
      "text/latex": [
       "$\\displaystyle \\frac{\\pi b \\left(6 a + b^{2}\\right) e^{\\frac{b^{2}}{4 a}} + \\sqrt{\\pi} \\left(- 4 a^{\\frac{3}{2}} + \\left(2 \\sqrt{a} + \\sqrt{\\pi} b e^{\\frac{b^{2}}{4 a}} \\operatorname{erf}{\\left(\\frac{b}{2 \\sqrt{a}} \\right)}\\right) \\left(6 a + b^{2}\\right)\\right)}{16 \\sqrt{\\pi} a^{\\frac{7}{2}}}$"
      ],
      "text/plain": [
       "(pi*b*(6*a + b**2)*exp(b**2/(4*a)) + sqrt(pi)*(-4*a**(3/2) + (2*sqrt(a) + sqrt(pi)*b*exp(b**2/(4*a))*erf(b/(2*sqrt(a))))*(6*a + b**2)))/(16*sqrt(pi)*a**(7/2))"
      ]
     },
     "execution_count": 259,
     "metadata": {},
     "output_type": "execute_result"
    }
   ],
   "source": [
    "res_computed_D_pos = D_int_pos.doit().simplify()\n",
    "res_computed_D_pos"
   ]
  },
  {
   "cell_type": "code",
   "execution_count": 260,
   "metadata": {},
   "outputs": [
    {
     "data": {
      "text/latex": [
       "$\\displaystyle \\frac{24 a^{\\frac{5}{2}} - \\left(6 a + b^{2}\\right) \\left(2 \\sqrt{a} \\left(2 a - b^{2}\\right) + \\sqrt{\\pi} b^{3} e^{\\frac{b^{2}}{4 a}} \\operatorname{erfc}{\\left(\\frac{b}{2 \\sqrt{a}} \\right)}\\right)}{16 a^{\\frac{7}{2}} b^{2}}$"
      ],
      "text/plain": [
       "(24*a**(5/2) - (6*a + b**2)*(2*sqrt(a)*(2*a - b**2) + sqrt(pi)*b**3*exp(b**2/(4*a))*erfc(b/(2*sqrt(a)))))/(16*a**(7/2)*b**2)"
      ]
     },
     "execution_count": 260,
     "metadata": {},
     "output_type": "execute_result"
    }
   ],
   "source": [
    "res_computed_D_neg = D_int_neg.doit().simplify()\n",
    "res_computed_D_neg"
   ]
  },
  {
   "cell_type": "code",
   "execution_count": 267,
   "metadata": {},
   "outputs": [],
   "source": [
    "# Equation (63)\n",
    "def Dint_pos(n):\n",
    "    C = 1/sqrt(a**(n+1))\n",
    "    term = 0\n",
    "    for k in range(0, n+1):\n",
    "        n_choose_k = factorial(n)/(factorial(k)*factorial(n-k))\n",
    "        F = factorial2(k-1)*lm**(n-k)\n",
    "        T1 = sqrt(pi/2**(k+2))*(1+erf(lm))*(1-2*o(k))*exp(lm**2)\n",
    "        T2 = 0\n",
    "        for j in range(1, int(k/2+o(k))+1):\n",
    "            T2 += lm**(k-2*j+1)/(2**j*factorial2(k-2*j+1))\n",
    "        term += n_choose_k*F*(T1+T2)\n",
    "    res = C*term\n",
    "    res = res.subs([(lm,b/(2*sqrt(a)))])\n",
    "    return res\n",
    "\n",
    "def Dint_neg(n):\n",
    "    C = 1/sqrt(a**(n+1))\n",
    "    term = 0\n",
    "    for k in range(0, n+1):\n",
    "        n_choose_k = factorial(n)/(factorial(k)*factorial(n-k))\n",
    "        F = factorial2(k-1)*lm**(n-k)\n",
    "        T1 = sqrt(pi/2**(k+2))*(1+erf(lm))*(1-2*o(k))*exp(lm**2)\n",
    "        T2 = 0\n",
    "        for j in range(1, int(k/2+o(k))+1):\n",
    "            T2 += lm**(k-2*j+1)/(2**j*factorial2(k-2*j+1))\n",
    "        term += n_choose_k*F*(T1+T2)\n",
    "    res = C*term\n",
    "    res = res.subs([(lm,-b/(2*sqrt(a)))])\n",
    "    return res"
   ]
  },
  {
   "cell_type": "code",
   "execution_count": 264,
   "metadata": {},
   "outputs": [
    {
     "data": {
      "text/latex": [
       "$\\displaystyle \\frac{4 a^{\\frac{5}{2}} + a^{\\frac{3}{2}} b \\left(3 \\sqrt{\\pi} \\sqrt{a} \\left(\\operatorname{erf}{\\left(\\frac{b}{2 \\sqrt{a}} \\right)} + 1\\right) e^{\\frac{b^{2}}{4 a}} + 7 b\\right) + 0.5 \\sqrt{\\pi} a b^{3} \\left(\\operatorname{erf}{\\left(\\frac{b}{2 \\sqrt{a}} \\right)} + 1\\right) e^{\\frac{b^{2}}{4 a}}}{8 a^{\\frac{9}{2}}}$"
      ],
      "text/plain": [
       "(4*a**(5/2) + a**(3/2)*b*(3*sqrt(pi)*sqrt(a)*(erf(b/(2*sqrt(a))) + 1)*exp(b**2/(4*a)) + 7*b) + 0.5*sqrt(pi)*a*b**3*(erf(b/(2*sqrt(a))) + 1)*exp(b**2/(4*a)))/(8*a**(9/2))"
      ]
     },
     "execution_count": 264,
     "metadata": {},
     "output_type": "execute_result"
    }
   ],
   "source": [
    "res_analytic_D_pos = Dint_pos(n).simplify()\n",
    "res_analytic_D_pos"
   ]
  },
  {
   "cell_type": "code",
   "execution_count": 266,
   "metadata": {},
   "outputs": [
    {
     "data": {
      "text/latex": [
       "$\\displaystyle - \\frac{3 b^{2}}{4 a^{3}}$"
      ],
      "text/plain": [
       "-3*b**2/(4*a**3)"
      ]
     },
     "execution_count": 266,
     "metadata": {},
     "output_type": "execute_result"
    }
   ],
   "source": [
    "(res_computed_D_pos-res_analytic_D_pos).simplify()"
   ]
  },
  {
   "cell_type": "code",
   "execution_count": 268,
   "metadata": {},
   "outputs": [
    {
     "data": {
      "text/latex": [
       "$\\displaystyle \\frac{4 a^{\\frac{5}{2}} + a^{\\frac{3}{2}} b \\left(3 \\sqrt{\\pi} \\sqrt{a} \\left(\\operatorname{erf}{\\left(\\frac{b}{2 \\sqrt{a}} \\right)} - 1\\right) e^{\\frac{b^{2}}{4 a}} + 7 b\\right) + 0.5 \\sqrt{\\pi} a b^{3} \\left(\\operatorname{erf}{\\left(\\frac{b}{2 \\sqrt{a}} \\right)} - 1\\right) e^{\\frac{b^{2}}{4 a}}}{8 a^{\\frac{9}{2}}}$"
      ],
      "text/plain": [
       "(4*a**(5/2) + a**(3/2)*b*(3*sqrt(pi)*sqrt(a)*(erf(b/(2*sqrt(a))) - 1)*exp(b**2/(4*a)) + 7*b) + 0.5*sqrt(pi)*a*b**3*(erf(b/(2*sqrt(a))) - 1)*exp(b**2/(4*a)))/(8*a**(9/2))"
      ]
     },
     "execution_count": 268,
     "metadata": {},
     "output_type": "execute_result"
    }
   ],
   "source": [
    "res_analytic_D_neg = Dint_neg(n).simplify()\n",
    "res_analytic_D_neg"
   ]
  },
  {
   "cell_type": "code",
   "execution_count": 269,
   "metadata": {},
   "outputs": [
    {
     "data": {
      "text/latex": [
       "$\\displaystyle \\frac{a \\left(24 a^{\\frac{5}{2}} - \\left(6 a + b^{2}\\right) \\left(2 \\sqrt{a} \\left(2 a - b^{2}\\right) + \\sqrt{\\pi} b^{3} e^{\\frac{b^{2}}{4 a}} \\operatorname{erfc}{\\left(\\frac{b}{2 \\sqrt{a}} \\right)}\\right)\\right) - b^{2} \\cdot \\left(8 a^{\\frac{5}{2}} + 2 a^{\\frac{3}{2}} b \\left(3 \\sqrt{\\pi} \\sqrt{a} \\left(\\operatorname{erf}{\\left(\\frac{b}{2 \\sqrt{a}} \\right)} - 1\\right) e^{\\frac{b^{2}}{4 a}} + 7 b\\right) + 1.0 \\sqrt{\\pi} a b^{3} \\left(\\operatorname{erf}{\\left(\\frac{b}{2 \\sqrt{a}} \\right)} - 1\\right) e^{\\frac{b^{2}}{4 a}}\\right)}{16 a^{\\frac{9}{2}} b^{2}}$"
      ],
      "text/plain": [
       "(a*(24*a**(5/2) - (6*a + b**2)*(2*sqrt(a)*(2*a - b**2) + sqrt(pi)*b**3*exp(b**2/(4*a))*erfc(b/(2*sqrt(a))))) - b**2*(8*a**(5/2) + 2*a**(3/2)*b*(3*sqrt(pi)*sqrt(a)*(erf(b/(2*sqrt(a))) - 1)*exp(b**2/(4*a)) + 7*b) + 1.0*sqrt(pi)*a*b**3*(erf(b/(2*sqrt(a))) - 1)*exp(b**2/(4*a))))/(16*a**(9/2)*b**2)"
      ]
     },
     "execution_count": 269,
     "metadata": {},
     "output_type": "execute_result"
    }
   ],
   "source": [
    "(res_computed_D_neg-res_analytic_D_neg).simplify()"
   ]
  },
  {
   "cell_type": "code",
   "execution_count": null,
   "metadata": {},
   "outputs": [],
   "source": []
  }
 ],
 "metadata": {
  "kernelspec": {
   "display_name": "sci",
   "language": "python",
   "name": "python3"
  },
  "language_info": {
   "codemirror_mode": {
    "name": "ipython",
    "version": 3
   },
   "file_extension": ".py",
   "mimetype": "text/x-python",
   "name": "python",
   "nbconvert_exporter": "python",
   "pygments_lexer": "ipython3",
   "version": "3.11.5"
  }
 },
 "nbformat": 4,
 "nbformat_minor": 2
}
