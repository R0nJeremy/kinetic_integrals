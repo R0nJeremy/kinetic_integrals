{
 "cells": [
  {
   "cell_type": "code",
   "execution_count": 1,
   "metadata": {},
   "outputs": [],
   "source": [
    "import sympy as sp \n",
    "from sympy import sin, cos, exp, Integral, oo, Rational"
   ]
  },
  {
   "cell_type": "code",
   "execution_count": 2,
   "metadata": {},
   "outputs": [],
   "source": [
    "a, b, R, u, w, x, t, lm = sp.symbols(f'a b R u w x t \\lambda', positive=True, real = True)\n",
    "l, k, m = sp.symbols(f'l k m', negative=False, integer = True)"
   ]
  },
  {
   "cell_type": "code",
   "execution_count": 8,
   "metadata": {},
   "outputs": [
    {
     "data": {
      "text/latex": [
       "$\\displaystyle \\int\\limits_{- \\lambda}^{\\infty} t e^{- t^{2}}\\, dt$"
      ],
      "text/plain": [
       "Integral(t*exp(-t**2), (t, -\\lambda, oo))"
      ]
     },
     "execution_count": 8,
     "metadata": {},
     "output_type": "execute_result"
    }
   ],
   "source": [
    "l=1\n",
    "I = Integral(t**(l)*exp(-t**2), (t,-lm,oo))\n",
    "I"
   ]
  },
  {
   "cell_type": "code",
   "execution_count": 9,
   "metadata": {},
   "outputs": [
    {
     "data": {
      "text/latex": [
       "$\\displaystyle \\frac{e^{- \\lambda^{2}}}{2}$"
      ],
      "text/plain": [
       "exp(-\\lambda**2)/2"
      ]
     },
     "execution_count": 9,
     "metadata": {},
     "output_type": "execute_result"
    }
   ],
   "source": [
    "Ires = I.doit().simplify()\n",
    "Ires"
   ]
  },
  {
   "cell_type": "code",
   "execution_count": 149,
   "metadata": {},
   "outputs": [
    {
     "data": {
      "text/latex": [
       "$\\displaystyle - \\frac{e^{- t^{2}}}{2}$"
      ],
      "text/plain": [
       "-exp(-t**2)/2"
      ]
     },
     "execution_count": 149,
     "metadata": {},
     "output_type": "execute_result"
    }
   ],
   "source": [
    "G0 = sp.sqrt(sp.pi)*sp.erf(t)/2\n",
    "G1 = -sp.exp(-t**2)/2\n",
    "G1"
   ]
  },
  {
   "cell_type": "code",
   "execution_count": 150,
   "metadata": {},
   "outputs": [],
   "source": [
    "def Gn(n):    \n",
    "    p = int(n/2)\n",
    "    if (n/2-p) == 0:\n",
    "        T1 = sp.factorial2(2*p-1)*G0/(2**p)\n",
    "        factor = 0\n",
    "        for k in range(1,p+1):\n",
    "            factor += sp.factorial2(2*p-1)*t**(2*p-2*k+1)/(2**(k-1)*sp.factorial2(2*p-2*k+1))\n",
    "        T2 = factor*G1\n",
    "        return T1+T2\n",
    "    else:\n",
    "        T1 = sp.factorial2(2*p)*G1/(2**p)\n",
    "        factor = 0\n",
    "        for k in range(1,p+1):\n",
    "            factor += sp.factorial2(2*p)*t**(2*p-2*k+2)/(2**(k-1)*sp.factorial2(2*p-2*k+2))\n",
    "        T2 = factor*G1\n",
    "        return T1+T2\n",
    "    "
   ]
  },
  {
   "cell_type": "code",
   "execution_count": 157,
   "metadata": {},
   "outputs": [],
   "source": [
    "def In(n):\n",
    "    p = int(n/2)\n",
    "    if (n/2-p) == 0:\n",
    "        C = exp(lm**2)/(a**p*sp.sqrt(a))\n",
    "        F = 0\n",
    "        for k in range(0, 2*p+1):\n",
    "            ch = sp.factorial(2*p)/(sp.factorial(k)*sp.factorial(2*p-k))\n",
    "            F += ch*lm**(2*p-k)*Gn(k)\n",
    "        return C*F\n",
    "    else:\n",
    "        C = exp(lm**2)/(a**(p+1))\n",
    "        F = 0\n",
    "        for k in range(0, 2*p+2):\n",
    "            ch = sp.factorial(2*p+1)/(sp.factorial(k)*sp.factorial(2*p-k+1))\n",
    "            F += ch*lm**(2*p-k+1)*Gn(k)\n",
    "        return C*F"
   ]
  },
  {
   "cell_type": "code",
   "execution_count": 158,
   "metadata": {},
   "outputs": [
    {
     "data": {
      "text/latex": [
       "$\\displaystyle - \\frac{\\left(t^{6} + 3 t^{4} + 6 t^{2}\\right) e^{- t^{2}}}{2} - 3 e^{- t^{2}}$"
      ],
      "text/plain": [
       "-(t**6 + 3*t**4 + 6*t**2)*exp(-t**2)/2 - 3*exp(-t**2)"
      ]
     },
     "execution_count": 158,
     "metadata": {},
     "output_type": "execute_result"
    }
   ],
   "source": [
    "Gn(l)"
   ]
  },
  {
   "cell_type": "code",
   "execution_count": 153,
   "metadata": {},
   "outputs": [
    {
     "data": {
      "text/latex": [
       "$\\displaystyle 0$"
      ],
      "text/plain": [
       "0"
      ]
     },
     "execution_count": 153,
     "metadata": {},
     "output_type": "execute_result"
    }
   ],
   "source": [
    "(Gn(l)-Ires).simplify()"
   ]
  },
  {
   "cell_type": "code",
   "execution_count": 204,
   "metadata": {},
   "outputs": [
    {
     "data": {
      "text/latex": [
       "$\\displaystyle \\frac{\\left(\\frac{\\sqrt{\\pi} \\lambda^{3} \\operatorname{erf}{\\left(t \\right)}}{2} - \\frac{3 \\lambda^{2} e^{- t^{2}}}{2} + 3 \\lambda \\left(- \\frac{t e^{- t^{2}}}{2} + \\frac{\\sqrt{\\pi} \\operatorname{erf}{\\left(t \\right)}}{4}\\right) - \\frac{t^{2} e^{- t^{2}}}{2} - \\frac{e^{- t^{2}}}{2}\\right) e^{\\lambda^{2}}}{a^{2}}$"
      ],
      "text/plain": [
       "(sqrt(pi)*\\lambda**3*erf(t)/2 - 3*\\lambda**2*exp(-t**2)/2 + 3*\\lambda*(-t*exp(-t**2)/2 + sqrt(pi)*erf(t)/4) - t**2*exp(-t**2)/2 - exp(-t**2)/2)*exp(\\lambda**2)/a**2"
      ]
     },
     "execution_count": 204,
     "metadata": {},
     "output_type": "execute_result"
    }
   ],
   "source": [
    "l = 3\n",
    "res = In(l)\n",
    "res"
   ]
  },
  {
   "cell_type": "code",
   "execution_count": 205,
   "metadata": {},
   "outputs": [
    {
     "data": {
      "text/latex": [
       "$\\displaystyle \\frac{\\left(6 \\sqrt{\\pi} a^{\\frac{19}{2}} b e^{a x^{2} + \\frac{b^{2}}{4 a}} \\operatorname{erf}{\\left(\\frac{2 a x - b}{2 \\sqrt{a}} \\right)} + \\sqrt{\\pi} a^{\\frac{17}{2}} b^{3} e^{a x^{2} + \\frac{b^{2}}{4 a}} \\operatorname{erf}{\\left(\\frac{2 a x - b}{2 \\sqrt{a}} \\right)} - 8 a^{11} x^{2} e^{b x} - 4 a^{10} b x e^{b x} - 8 a^{10} e^{b x} - 2 a^{9} b^{2} e^{b x}\\right) e^{- a x^{2}}}{16 a^{12}}$"
      ],
      "text/plain": [
       "(6*sqrt(pi)*a**(19/2)*b*exp(a*x**2 + b**2/(4*a))*erf((2*a*x - b)/(2*sqrt(a))) + sqrt(pi)*a**(17/2)*b**3*exp(a*x**2 + b**2/(4*a))*erf((2*a*x - b)/(2*sqrt(a))) - 8*a**11*x**2*exp(b*x) - 4*a**10*b*x*exp(b*x) - 8*a**10*exp(b*x) - 2*a**9*b**2*exp(b*x))*exp(-a*x**2)/(16*a**12)"
      ]
     },
     "execution_count": 205,
     "metadata": {},
     "output_type": "execute_result"
    }
   ],
   "source": [
    "res = res.subs([(t,sp.sqrt(a)*x-b/(2*sp.sqrt(a))),(lm,b/(2*sp.sqrt(a)))]).simplify()\n",
    "res"
   ]
  },
  {
   "cell_type": "code",
   "execution_count": 206,
   "metadata": {},
   "outputs": [
    {
     "data": {
      "text/latex": [
       "$\\displaystyle \\int x^{3} e^{- a x^{2} + b x}\\, dx$"
      ],
      "text/plain": [
       "Integral(x**3*exp(-a*x**2 + b*x), x)"
      ]
     },
     "execution_count": 206,
     "metadata": {},
     "output_type": "execute_result"
    }
   ],
   "source": [
    "Int = Integral(x**l*exp(-a*x**2+b*x),(x))\n",
    "Int"
   ]
  },
  {
   "cell_type": "code",
   "execution_count": 207,
   "metadata": {},
   "outputs": [
    {
     "data": {
      "text/latex": [
       "$\\displaystyle \\frac{\\left(6 \\sqrt{\\pi} a^{\\frac{19}{2}} b e^{a x^{2} + \\frac{b^{2}}{4 a}} \\operatorname{erf}{\\left(\\frac{2 a x - b}{2 \\sqrt{a}} \\right)} + \\sqrt{\\pi} a^{\\frac{17}{2}} b^{3} e^{a x^{2} + \\frac{b^{2}}{4 a}} \\operatorname{erf}{\\left(\\frac{2 a x - b}{2 \\sqrt{a}} \\right)} - 8 a^{11} x^{2} e^{b x} - 4 a^{10} b x e^{b x} - 8 a^{10} e^{b x} - 2 a^{9} b^{2} e^{b x}\\right) e^{- a x^{2}}}{16 a^{12}}$"
      ],
      "text/plain": [
       "(6*sqrt(pi)*a**(19/2)*b*exp(a*x**2 + b**2/(4*a))*erf((2*a*x - b)/(2*sqrt(a))) + sqrt(pi)*a**(17/2)*b**3*exp(a*x**2 + b**2/(4*a))*erf((2*a*x - b)/(2*sqrt(a))) - 8*a**11*x**2*exp(b*x) - 4*a**10*b*x*exp(b*x) - 8*a**10*exp(b*x) - 2*a**9*b**2*exp(b*x))*exp(-a*x**2)/(16*a**12)"
      ]
     },
     "execution_count": 207,
     "metadata": {},
     "output_type": "execute_result"
    }
   ],
   "source": [
    "res_int = Int.doit().simplify()\n",
    "res_int"
   ]
  },
  {
   "cell_type": "code",
   "execution_count": 208,
   "metadata": {},
   "outputs": [
    {
     "data": {
      "text/latex": [
       "$\\displaystyle 0$"
      ],
      "text/plain": [
       "0"
      ]
     },
     "execution_count": 208,
     "metadata": {},
     "output_type": "execute_result"
    }
   ],
   "source": [
    "(res-res_int).simplify()"
   ]
  },
  {
   "cell_type": "code",
   "execution_count": 214,
   "metadata": {},
   "outputs": [
    {
     "data": {
      "text/latex": [
       "$\\displaystyle - \\frac{\\left(- R - 1\\right) e^{- R}}{R^{2}} + \\frac{\\left(R - 1\\right) e^{R}}{R^{2}}$"
      ],
      "text/plain": [
       "-(-R - 1)*exp(-R)/R**2 + (R - 1)*exp(R)/R**2"
      ]
     },
     "execution_count": 214,
     "metadata": {},
     "output_type": "execute_result"
    }
   ],
   "source": [
    "Integral(t*exp(R*t),(t,-1,1)).doit()"
   ]
  },
  {
   "cell_type": "code",
   "execution_count": null,
   "metadata": {},
   "outputs": [],
   "source": []
  }
 ],
 "metadata": {
  "kernelspec": {
   "display_name": "sci",
   "language": "python",
   "name": "python3"
  },
  "language_info": {
   "codemirror_mode": {
    "name": "ipython",
    "version": 3
   },
   "file_extension": ".py",
   "mimetype": "text/x-python",
   "name": "python",
   "nbconvert_exporter": "python",
   "pygments_lexer": "ipython3",
   "version": "3.11.5"
  }
 },
 "nbformat": 4,
 "nbformat_minor": 2
}
