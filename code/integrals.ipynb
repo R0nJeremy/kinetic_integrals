{
 "cells": [
  {
   "cell_type": "code",
   "execution_count": 2,
   "metadata": {},
   "outputs": [],
   "source": [
    "import sympy as sp \n",
    "from sympy import sin, cos, exp, Integral, oo, Rational, pi, sqrt, factorial, factorial2"
   ]
  },
  {
   "cell_type": "code",
   "execution_count": 3,
   "metadata": {},
   "outputs": [],
   "source": [
    "a, b, R, u, w, x, t, lm, va, vf = sp.symbols(f'a b R u w x t \\lambda v_a v_f', positive=True, real = True)\n",
    "l, k, m = sp.symbols(f'l k m', negative=False, integer = True)"
   ]
  },
  {
   "cell_type": "code",
   "execution_count": 4,
   "metadata": {},
   "outputs": [],
   "source": [
    "def Cnk(n,k):\n",
    "    if k>n:\n",
    "        return \"n has to be larger than k\"\n",
    "    else:\n",
    "        return sp.factorial(n)/(sp.factorial(k)*sp.factorial(n-k))"
   ]
  },
  {
   "cell_type": "code",
   "execution_count": 5,
   "metadata": {},
   "outputs": [
    {
     "data": {
      "text/latex": [
       "$\\displaystyle \\int\\limits_{\\lambda}^{\\infty} e^{- t^{2}}\\, dt$"
      ],
      "text/plain": [
       "Integral(exp(-t**2), (t, \\lambda, oo))"
      ]
     },
     "execution_count": 5,
     "metadata": {},
     "output_type": "execute_result"
    }
   ],
   "source": [
    "l=0\n",
    "Ip = Integral(t**(l)*exp(-t**2), (t,lm,oo))\n",
    "Im = Integral(t**(l)*exp(-t**2), (t,-lm,oo))\n",
    "Ip"
   ]
  },
  {
   "cell_type": "code",
   "execution_count": 6,
   "metadata": {},
   "outputs": [
    {
     "data": {
      "text/latex": [
       "$\\displaystyle \\frac{\\sqrt{\\pi} \\left(1 - \\operatorname{erf}{\\left(\\lambda \\right)}\\right)}{2}$"
      ],
      "text/plain": [
       "sqrt(pi)*(1 - erf(\\lambda))/2"
      ]
     },
     "execution_count": 6,
     "metadata": {},
     "output_type": "execute_result"
    }
   ],
   "source": [
    "Ip_res = Ip.doit().simplify()\n",
    "Im_res = Im.doit().simplify()\n",
    "Ip_res"
   ]
  },
  {
   "cell_type": "code",
   "execution_count": 7,
   "metadata": {},
   "outputs": [
    {
     "data": {
      "text/latex": [
       "$\\displaystyle \\frac{\\sqrt{\\pi} \\left(\\operatorname{erf}{\\left(\\lambda \\right)} + 1\\right)}{2}$"
      ],
      "text/plain": [
       "sqrt(pi)*(erf(\\lambda) + 1)/2"
      ]
     },
     "execution_count": 7,
     "metadata": {},
     "output_type": "execute_result"
    }
   ],
   "source": [
    "G0p = sp.sqrt(sp.pi)*(1+sp.erf(lm))/2\n",
    "G0m = sp.sqrt(sp.pi)*(1-sp.erf(lm))/2\n",
    "G1 = sp.exp(-lm**2)/2\n",
    "G0p"
   ]
  },
  {
   "cell_type": "code",
   "execution_count": 8,
   "metadata": {},
   "outputs": [],
   "source": [
    "def G_pos(n):\n",
    "    o = n/2 - int(n/2)\n",
    "    p = int(n/2 - o)\n",
    "    if o == 0:\n",
    "        T1 = sp.factorial2(2*p-1)*G0p / (2**p)\n",
    "        T2 = 0\n",
    "        for j in range(1,p+1):\n",
    "            T2 += sp.factorial2(2*p-1)*lm**(2*p-2*j+1)/(sp.factorial2(2*p-2*j+1)*2**(j-1))\n",
    "        T2 *= G1    \n",
    "        return T1+T2\n",
    "    else:\n",
    "        T = 0\n",
    "        for j in range(1,p+2):\n",
    "            T += sp.factorial2(2*p)*lm**(2*p-2*j+2)/(sp.factorial2(2*p-2*j+2)*2**(j-1))\n",
    "        T *= G1    \n",
    "        return T    \n",
    "\n",
    "def G_neg(n):\n",
    "    o = n/2 - int(n/2)\n",
    "    p = int(n/2 - o)\n",
    "    if o == 0:\n",
    "        T1 = sp.factorial2(2*p-1)*G0m / (2**p)\n",
    "        T2 = 0\n",
    "        for j in range(1,p+1):\n",
    "            T2 += sp.factorial2(2*p-1)*lm**(2*p-2*j+1)/(sp.factorial2(2*p-2*j+1)*2**(j-1))\n",
    "        T2 *= G1    \n",
    "        return T1-T2\n",
    "    else:\n",
    "        T = 0\n",
    "        for j in range(1,p+2):\n",
    "            T += sp.factorial2(2*p)*lm**(2*p-2*j+2)/(sp.factorial2(2*p-2*j+2)*2**(j-1))\n",
    "        T *= G1    \n",
    "        return T    "
   ]
  },
  {
   "cell_type": "code",
   "execution_count": 9,
   "metadata": {},
   "outputs": [
    {
     "data": {
      "text/latex": [
       "$\\displaystyle \\frac{\\sqrt{\\pi} \\left(\\operatorname{erf}{\\left(\\lambda \\right)} + 1\\right)}{2}$"
      ],
      "text/plain": [
       "sqrt(pi)*(erf(\\lambda) + 1)/2"
      ]
     },
     "execution_count": 9,
     "metadata": {},
     "output_type": "execute_result"
    }
   ],
   "source": [
    "G_pos(l)"
   ]
  },
  {
   "cell_type": "code",
   "execution_count": 10,
   "metadata": {},
   "outputs": [
    {
     "data": {
      "text/latex": [
       "$\\displaystyle \\int\\limits_{0}^{\\infty} x^{5} \\left(e^{b x} - e^{- b x}\\right) e^{- a x^{2}}\\, dx$"
      ],
      "text/plain": [
       "Integral(x**5*(exp(b*x) - exp(-b*x))*exp(-a*x**2), (x, 0, oo))"
      ]
     },
     "execution_count": 10,
     "metadata": {},
     "output_type": "execute_result"
    }
   ],
   "source": [
    "n = 5\n",
    "I_full_p = Integral(x**n*exp(-a*x**2)*(exp(b*x)+exp(-b*x)),(x,0,oo))\n",
    "I_full_n = Integral(x**n*exp(-a*x**2)*(exp(b*x)-exp(-b*x)),(x,0,oo))\n",
    "I_full_n"
   ]
  },
  {
   "cell_type": "code",
   "execution_count": 11,
   "metadata": {},
   "outputs": [
    {
     "data": {
      "text/latex": [
       "$\\displaystyle \\frac{\\sqrt{\\pi} \\lambda \\left(60 a^{2} \\operatorname{erf}{\\left(\\lambda \\right)} + 60 a^{2} \\operatorname{erfc}{\\left(\\lambda \\right)} + 60 a^{2} + 20 a b^{2} \\operatorname{erf}{\\left(\\lambda \\right)} + 20 a b^{2} \\operatorname{erfc}{\\left(\\lambda \\right)} + 20 a b^{2} + b^{4} \\operatorname{erf}{\\left(\\lambda \\right)} + b^{4} \\operatorname{erfc}{\\left(\\lambda \\right)} + b^{4}\\right) e^{\\lambda^{2}}}{32 a^{5}}$"
      ],
      "text/plain": [
       "sqrt(pi)*\\lambda*(60*a**2*erf(\\lambda) + 60*a**2*erfc(\\lambda) + 60*a**2 + 20*a*b**2*erf(\\lambda) + 20*a*b**2*erfc(\\lambda) + 20*a*b**2 + b**4*erf(\\lambda) + b**4*erfc(\\lambda) + b**4)*exp(\\lambda**2)/(32*a**5)"
      ]
     },
     "execution_count": 11,
     "metadata": {},
     "output_type": "execute_result"
    }
   ],
   "source": [
    "I_full_p_res = I_full_p.doit().simplify().subs([(b/(2*sp.sqrt(a)),lm)])\n",
    "I_full_n_res = I_full_n.doit().simplify().subs([(b/(2*sp.sqrt(a)),lm)])\n",
    "I_full_n_res.simplify()"
   ]
  },
  {
   "cell_type": "code",
   "execution_count": 12,
   "metadata": {},
   "outputs": [],
   "source": [
    "def I_an_pos(n):\n",
    "    C = exp(lm**2)/sp.sqrt(a**(n+1))\n",
    "    T = 0\n",
    "    for k in range(0,n+1):        \n",
    "        brac = G_pos(k)+(-1)**(n-k)*G_neg(k)\n",
    "        T += Cnk(n,k)*lm**(n-k)*brac\n",
    "    return (C*T).simplify()\n",
    "\n",
    "def I_an_neg(n):\n",
    "    C = exp(lm**2)/sp.sqrt(a**(n+1))\n",
    "    T = 0\n",
    "    for k in range(0,n+1):\n",
    "        n_choose_k = sp.factorial(n)/(sp.factorial(k)*sp.factorial(n-k))\n",
    "        brac = G_pos(k)-(-1)**(n-k)*G_neg(k)\n",
    "        T += Cnk(n,k)*lm**(n-k)*brac\n",
    "    return (C*T).simplify()"
   ]
  },
  {
   "cell_type": "code",
   "execution_count": 13,
   "metadata": {},
   "outputs": [
    {
     "data": {
      "text/latex": [
       "$\\displaystyle \\frac{\\sqrt{\\pi} \\lambda \\left(4 \\lambda^{4} + 20 \\lambda^{2} + 15\\right) e^{\\lambda^{2}}}{4 a^{3}}$"
      ],
      "text/plain": [
       "sqrt(pi)*\\lambda*(4*\\lambda**4 + 20*\\lambda**2 + 15)*exp(\\lambda**2)/(4*a**3)"
      ]
     },
     "execution_count": 13,
     "metadata": {},
     "output_type": "execute_result"
    }
   ],
   "source": [
    "I_an_neg(n)"
   ]
  },
  {
   "cell_type": "code",
   "execution_count": 14,
   "metadata": {},
   "outputs": [],
   "source": [
    "def I_even_pos(n):\n",
    "    o = n/2 - int(n/2)\n",
    "    p = int(n/2 - o)\n",
    "    if o != 0:\n",
    "        return \"Must be an even input\"\n",
    "    else:\n",
    "        C = sp.sqrt(sp.pi/a)*exp(lm**2)/(a**p)\n",
    "        T = 0\n",
    "        for k in range(0, p+1):\n",
    "            T += Cnk(2*p, 2*k)*sp.factorial2(2*k-1)*lm**(2*p-2*k)/(2**k)\n",
    "        return (C*T).simplify()\n",
    "\n",
    "def I_odd_pos(n):\n",
    "    o = n/2 - int(n/2)\n",
    "    p = int(n/2 - o)\n",
    "    if o == 0:\n",
    "        return \"Must be an odd input\"\n",
    "    else:\n",
    "        C = sp.sqrt(sp.pi)*exp(lm**2)/(a**(p+1))\n",
    "        T = 0\n",
    "        for k in range(0, p+1):\n",
    "            T += Cnk(2*p+1, 2*k)*sp.factorial2(2*k-1)*lm**(2*p-2*k+1)/(2**k)\n",
    "        return (C*T).simplify()"
   ]
  },
  {
   "cell_type": "code",
   "execution_count": 15,
   "metadata": {},
   "outputs": [
    {
     "data": {
      "text/plain": [
       "'Must be an even input'"
      ]
     },
     "execution_count": 15,
     "metadata": {},
     "output_type": "execute_result"
    }
   ],
   "source": [
    "I_even_pos(n)"
   ]
  },
  {
   "cell_type": "code",
   "execution_count": 16,
   "metadata": {},
   "outputs": [
    {
     "data": {
      "text/latex": [
       "$\\displaystyle \\frac{\\sqrt{\\pi} \\lambda \\left(4 \\lambda^{4} + 20 \\lambda^{2} + 15\\right) e^{\\lambda^{2}}}{4 a^{3}}$"
      ],
      "text/plain": [
       "sqrt(pi)*\\lambda*(4*\\lambda**4 + 20*\\lambda**2 + 15)*exp(\\lambda**2)/(4*a**3)"
      ]
     },
     "execution_count": 16,
     "metadata": {},
     "output_type": "execute_result"
    }
   ],
   "source": [
    "I_odd_pos(n)"
   ]
  },
  {
   "cell_type": "code",
   "execution_count": 17,
   "metadata": {},
   "outputs": [
    {
     "data": {
      "text/latex": [
       "$\\displaystyle \\frac{2 \\pi \\int\\limits_{0}^{\\infty} w^{2} \\left(e^{R u w} + e^{- R u w}\\right) e^{- a w^{2}}\\, dw}{R} - \\frac{2 \\pi \\int\\limits_{0}^{\\infty} w \\left(e^{R u w} - e^{- R u w}\\right) e^{- a w^{2}}\\, dw}{R^{2} u}$"
      ],
      "text/plain": [
       "2*pi*Integral(w**2*(exp(R*u*w) + exp(-R*u*w))*exp(-a*w**2), (w, 0, oo))/R - 2*pi*Integral(w*(exp(R*u*w) - exp(-R*u*w))*exp(-a*w**2), (w, 0, oo))/(R**2*u)"
      ]
     },
     "execution_count": 17,
     "metadata": {},
     "output_type": "execute_result"
    }
   ],
   "source": [
    "l=0\n",
    "CM_int = (2*pi/(R*u))*Integral(w**(2*l+1)*exp(-a*w**2)*(exp(R*u*w)-exp(-R*u*w)),(w,0,oo))\n",
    "CM_int_1 = (2*pi/R)*Integral(w**(2*l+2)*exp(-a*w**2)*(exp(R*u*w)+exp(-R*u*w)),(w,0,oo))-CM_int/R\n",
    "CM_int_1"
   ]
  },
  {
   "cell_type": "code",
   "execution_count": 18,
   "metadata": {},
   "outputs": [
    {
     "data": {
      "text/latex": [
       "$\\displaystyle \\frac{\\pi^{\\frac{3}{2}} R u^{2} e^{\\frac{R^{2} u^{2}}{4 a}}}{2 a^{\\frac{5}{2}}}$"
      ],
      "text/plain": [
       "pi**(3/2)*R*u**2*exp(R**2*u**2/(4*a))/(2*a**(5/2))"
      ]
     },
     "execution_count": 18,
     "metadata": {},
     "output_type": "execute_result"
    }
   ],
   "source": [
    "CM_int_1.doit().simplify()"
   ]
  },
  {
   "cell_type": "code",
   "execution_count": 19,
   "metadata": {},
   "outputs": [],
   "source": [
    "def CM_int_0(l):\n",
    "    C = sqrt(pi/a)*pi*exp(lm**2)/(a**(l+1))\n",
    "    T = 0\n",
    "    for k in range(0,l+1):\n",
    "        T += Cnk(2*l+1,2*k)*factorial2(2*k-1)*lm**(2*l-2*k)/(2**k)\n",
    "    \n",
    "    res = (C*T).subs([(lm,R*u/(2*sqrt(a)))])\n",
    "    return res.simplify()\n",
    "\n",
    "def CM_int_1(l):\n",
    "    C = (2*pi/R)*sqrt(pi/a)*exp(lm**2)/(a**(l+1))\n",
    "    Bc = factorial2(2*l+1)/(2**(l+1))\n",
    "    T = 0\n",
    "    for k in range(0,l+1):\n",
    "        T += Cnk(2*l+1,2*k)*(factorial2(2*k-1)/(2**k))*lm**(2*l-2*k)*((2*l+2)*lm**2/(2*l-2*k+2)-sp.Rational(1,2))\n",
    "    res = (C*(Bc+T)).subs([(lm,R*u/(2*sqrt(a)))])\n",
    "    return res.simplify()"
   ]
  },
  {
   "cell_type": "code",
   "execution_count": 62,
   "metadata": {},
   "outputs": [
    {
     "data": {
      "text/latex": [
       "$\\displaystyle \\frac{\\pi^{\\frac{3}{2}} e^{\\frac{R^{2} u^{2}}{4 a}}}{a^{\\frac{3}{2}}}$"
      ],
      "text/plain": [
       "pi**(3/2)*exp(R**2*u**2/(4*a))/a**(3/2)"
      ]
     },
     "execution_count": 62,
     "metadata": {},
     "output_type": "execute_result"
    }
   ],
   "source": [
    "CM_int_0(0)"
   ]
  },
  {
   "cell_type": "code",
   "execution_count": 56,
   "metadata": {},
   "outputs": [
    {
     "data": {
      "text/latex": [
       "$\\displaystyle \\int\\limits_{0}^{v_{a}} x^{3} e^{- a x^{2}}\\, dx$"
      ],
      "text/plain": [
       "Integral(x**3*exp(-a*x**2), (x, 0, v_a))"
      ]
     },
     "execution_count": 56,
     "metadata": {},
     "output_type": "execute_result"
    }
   ],
   "source": [
    "k = 1\n",
    "G1 = Integral(x**(k+2)*exp(-a*x**2),(x, 0, va))\n",
    "G1"
   ]
  },
  {
   "cell_type": "code",
   "execution_count": 57,
   "metadata": {},
   "outputs": [
    {
     "data": {
      "text/latex": [
       "$\\displaystyle \\frac{\\left(- a v_{a}^{2} + e^{a v_{a}^{2}} - 1\\right) e^{- a v_{a}^{2}}}{2 a^{2}}$"
      ],
      "text/plain": [
       "(-a*v_a**2 + exp(a*v_a**2) - 1)*exp(-a*v_a**2)/(2*a**2)"
      ]
     },
     "execution_count": 57,
     "metadata": {},
     "output_type": "execute_result"
    }
   ],
   "source": [
    "G1.doit().simplify()"
   ]
  },
  {
   "cell_type": "code",
   "execution_count": 58,
   "metadata": {},
   "outputs": [
    {
     "data": {
      "text/latex": [
       "$\\displaystyle \\int\\limits_{v_{a}}^{v_{f}} x^{3} e^{- a x^{2}}\\, dx$"
      ],
      "text/plain": [
       "Integral(x**3*exp(-a*x**2), (x, v_a, v_f))"
      ]
     },
     "execution_count": 58,
     "metadata": {},
     "output_type": "execute_result"
    }
   ],
   "source": [
    "G2 = Integral(x**(k+2)*exp(-a*x**2),(x, va, vf))\n",
    "G2"
   ]
  },
  {
   "cell_type": "code",
   "execution_count": 59,
   "metadata": {},
   "outputs": [
    {
     "data": {
      "text/latex": [
       "$\\displaystyle \\frac{\\left(\\left(a v_{a}^{2} + 1\\right) e^{a v_{f}^{2}} - \\left(a v_{f}^{2} + 1\\right) e^{a v_{a}^{2}}\\right) e^{- a \\left(v_{a}^{2} + v_{f}^{2}\\right)}}{2 a^{2}}$"
      ],
      "text/plain": [
       "((a*v_a**2 + 1)*exp(a*v_f**2) - (a*v_f**2 + 1)*exp(a*v_a**2))*exp(-a*(v_a**2 + v_f**2))/(2*a**2)"
      ]
     },
     "execution_count": 59,
     "metadata": {},
     "output_type": "execute_result"
    }
   ],
   "source": [
    "G2.doit().simplify()"
   ]
  },
  {
   "cell_type": "code",
   "execution_count": 60,
   "metadata": {},
   "outputs": [
    {
     "data": {
      "text/latex": [
       "$\\displaystyle \\int\\limits_{v_{f}}^{\\infty} x^{3} e^{- a x^{2}}\\, dx$"
      ],
      "text/plain": [
       "Integral(x**3*exp(-a*x**2), (x, v_f, oo))"
      ]
     },
     "execution_count": 60,
     "metadata": {},
     "output_type": "execute_result"
    }
   ],
   "source": [
    "G3 = Integral(x**(k+2)*exp(-a*x**2),(x, vf, oo))\n",
    "G3"
   ]
  },
  {
   "cell_type": "code",
   "execution_count": 61,
   "metadata": {},
   "outputs": [
    {
     "data": {
      "text/latex": [
       "$\\displaystyle \\frac{\\left(a v_{f}^{2} + 1\\right) e^{- a v_{f}^{2}}}{2 a^{2}}$"
      ],
      "text/plain": [
       "(a*v_f**2 + 1)*exp(-a*v_f**2)/(2*a**2)"
      ]
     },
     "execution_count": 61,
     "metadata": {},
     "output_type": "execute_result"
    }
   ],
   "source": [
    "G3.doit().simplify()"
   ]
  },
  {
   "cell_type": "code",
   "execution_count": 26,
   "metadata": {},
   "outputs": [
    {
     "data": {
      "text/latex": [
       "$\\displaystyle \\frac{\\sqrt{\\pi}}{4}$"
      ],
      "text/plain": [
       "sqrt(pi)/4"
      ]
     },
     "execution_count": 26,
     "metadata": {},
     "output_type": "execute_result"
    }
   ],
   "source": [
    "Integral(x**2*exp(-x**2),(x,0,oo)).doit()"
   ]
  },
  {
   "cell_type": "code",
   "execution_count": null,
   "metadata": {},
   "outputs": [],
   "source": []
  },
  {
   "cell_type": "code",
   "execution_count": null,
   "metadata": {},
   "outputs": [],
   "source": []
  }
 ],
 "metadata": {
  "kernelspec": {
   "display_name": "sci",
   "language": "python",
   "name": "python3"
  },
  "language_info": {
   "codemirror_mode": {
    "name": "ipython",
    "version": 3
   },
   "file_extension": ".py",
   "mimetype": "text/x-python",
   "name": "python",
   "nbconvert_exporter": "python",
   "pygments_lexer": "ipython3",
   "version": "3.11.6"
  }
 },
 "nbformat": 4,
 "nbformat_minor": 2
}
