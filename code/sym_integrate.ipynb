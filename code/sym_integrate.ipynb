{
 "cells": [
  {
   "cell_type": "code",
   "execution_count": 1,
   "metadata": {},
   "outputs": [],
   "source": [
    "import sympy as sp \n",
    "from sympy import exp, Integral, oo, Rational, pi, sqrt, factorial, factorial2"
   ]
  },
  {
   "cell_type": "code",
   "execution_count": 2,
   "metadata": {},
   "outputs": [],
   "source": [
    "A, B, R, g, V, lm, ga, gf, x, V_dot_g, alp, u1, u2, mu1, mu2 = sp.symbols(f'A B R g V \\lambda g_a g_f x \\Lambda alpha u_1 u_2 \\mu_1 \\mu_2', positive=True, real = True)\n",
    "l, k, m = sp.symbols(f'l k m', negative=False, integer = True)"
   ]
  },
  {
   "cell_type": "markdown",
   "metadata": {},
   "source": [
    "Implementation of the angular integrals, given by Eqs. (100) and (101) in the draft.\n",
    " * When dom>0, the fragmentative integral is performed\n",
    " * When dom<0, the restitutive integral is performed\n",
    " * When dom=0, the aggregative integral, e.g. no domain restriction is performed"
   ]
  },
  {
   "cell_type": "code",
   "execution_count": 3,
   "metadata": {},
   "outputs": [],
   "source": [
    "def angular_integral(m,p,q=0,dom=0):\n",
    "    if (q != 0) and (q != 1):\n",
    "        return \"q has to be either 0 or 1\"\n",
    "    I_mpq0 = (-1)**(p+q)*(V_dot_g)**q*2*pi*g**(m+p-q)/(m+p+q+1)\n",
    "    Frag_dom = (1-(gf/g)**(m+p+q+1))*sp.Heaviside(g-gf)\n",
    "    Rest_dom = sp.Heaviside(gf-g)+sp.Heaviside(g-gf)*(gf/g)**(m+p+q+1)\n",
    "    if dom==0:\n",
    "        res = I_mpq0\n",
    "    elif dom > 0:\n",
    "        res = I_mpq0 * Frag_dom\n",
    "    else:\n",
    "        res = I_mpq0 * Rest_dom\n",
    "    return res"
   ]
  },
  {
   "cell_type": "markdown",
   "metadata": {},
   "source": [
    "An example of the angular integral\n",
    "$$\n",
    "    I^{m,p,q}_{\\hat{n},r}=\\int d\\hat{n}\\Theta(-\\vec{g}\\cdot\\hat{n})\n",
    "    \\vert\\vec{g}\\cdot\\hat{n}\\vert^m(\\vec{g}\\cdot\\hat{n})^p(\\vec{V}\\cdot\\hat{n})^q\n",
    "    \\Theta(g_f^2-(\\vec{g}\\cdot\\hat{n})^2),\n",
    "$$\n",
    "for specific values of $m,p,q$ is shown"
   ]
  },
  {
   "cell_type": "code",
   "execution_count": 4,
   "metadata": {},
   "outputs": [
    {
     "data": {
      "text/latex": [
       "$\\displaystyle \\frac{\\pi g^{3} \\left(\\theta\\left(- g + g_{f}\\right) + \\frac{g_{f}^{4} \\theta\\left(g - g_{f}\\right)}{g^{4}}\\right)}{2}$"
      ],
      "text/plain": [
       "pi*g**3*(Heaviside(-g + g_f) + g_f**4*Heaviside(g - g_f)/g**4)/2"
      ]
     },
     "execution_count": 4,
     "metadata": {},
     "output_type": "execute_result"
    }
   ],
   "source": [
    "angular_integral(m=1,p=2,q=0,dom=-1)"
   ]
  },
  {
   "cell_type": "markdown",
   "metadata": {},
   "source": [
    "Implementation of the center of mass velocity integrals, given by Eq. (134) in the draft."
   ]
  },
  {
   "cell_type": "code",
   "execution_count": 5,
   "metadata": {},
   "outputs": [],
   "source": [
    "def CoM_integral(l,q=0):\n",
    "    if (q != 0) and (q != 1):\n",
    "        return \"q has to be either 0 or 1\"\n",
    "    C = (2/R)**q*(pi/A)**Rational(3,2)*exp(lm**2)/(A**l)\n",
    "    T1 = (factorial2(2*l+1)/(2**(l+1)))**q\n",
    "    T2 = 0\n",
    "    for k in range(0, l+1):\n",
    "        F1 = factorial(2*l+1)/(factorial(2*k)*factorial(2*l-2*k+1))\n",
    "        F2 = factorial2(2*k-1)/(2**k)\n",
    "        F3 = lm**(2*l-2*k)\n",
    "        F4 = (lm**2*(l+1)/(l-k+1)-Rational(1,2))**q\n",
    "        T2 += F1*F2*F3*F4\n",
    "    res = C*(T1+T2)\n",
    "    return res.simplify()"
   ]
  },
  {
   "cell_type": "code",
   "execution_count": 6,
   "metadata": {},
   "outputs": [
    {
     "data": {
      "text/latex": [
       "$\\displaystyle \\frac{\\pi^{\\frac{3}{2}} \\left(\\lambda^{2} + \\frac{5}{2}\\right) e^{\\lambda^{2}}}{A^{\\frac{5}{2}}}$"
      ],
      "text/plain": [
       "pi**(3/2)*(\\lambda**2 + 5/2)*exp(\\lambda**2)/A**(5/2)"
      ]
     },
     "execution_count": 6,
     "metadata": {},
     "output_type": "execute_result"
    }
   ],
   "source": [
    "CoM_integral(l=1,q=0)"
   ]
  },
  {
   "cell_type": "code",
   "execution_count": null,
   "metadata": {},
   "outputs": [],
   "source": []
  }
 ],
 "metadata": {
  "kernelspec": {
   "display_name": "sci",
   "language": "python",
   "name": "python3"
  },
  "language_info": {
   "codemirror_mode": {
    "name": "ipython",
    "version": 3
   },
   "file_extension": ".py",
   "mimetype": "text/x-python",
   "name": "python",
   "nbconvert_exporter": "python",
   "pygments_lexer": "ipython3",
   "version": "3.12.0"
  }
 },
 "nbformat": 4,
 "nbformat_minor": 2
}
