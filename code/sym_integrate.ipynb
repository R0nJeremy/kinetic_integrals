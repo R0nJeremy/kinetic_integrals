{
 "cells": [
  {
   "cell_type": "code",
   "execution_count": 19,
   "metadata": {},
   "outputs": [],
   "source": [
    "import sympy as sp \n",
    "from sympy import exp, Integral, oo, Rational, pi, sqrt"
   ]
  },
  {
   "cell_type": "code",
   "execution_count": 94,
   "metadata": {},
   "outputs": [],
   "source": [
    "A, B, R, g, V, lm, ga, gf, x, V_dot_g, alp, u1, u2, mu1, mu2 = sp.symbols(f'A B R g V \\lambda g_a g_f x \\Lambda alpha u_1 u_2 \\mu_1 \\mu_2', positive=True, real = True)\n",
    "l, k, m = sp.symbols(f'l k m', negative=False, integer = True)"
   ]
  },
  {
   "cell_type": "code",
   "execution_count": 95,
   "metadata": {},
   "outputs": [],
   "source": [
    "def angular_integral(m,p,q=0,dom=0):\n",
    "    if (q != 0) and (q != 1):\n",
    "        return \"q has to be either 0 or 1\"\n",
    "    I_mpq0 = (-1)**(p+q)*(V_dot_g)**q*2*pi*g**(m+p-q)/(m+p+q+1)\n",
    "    Frag_dom = (1-(gf/g)**(m+p+q+1))*sp.Heaviside(g-gf)\n",
    "    Rest_dom = sp.Heaviside(gf-g)+sp.Heaviside(g-gf)*(gf/g)**(m+p+q+1)\n",
    "    if dom==0:\n",
    "        res = I_mpq0\n",
    "    elif dom > 0:\n",
    "        res = I_mpq0 * Frag_dom\n",
    "    else:\n",
    "        res = I_mpq0 * Rest_dom\n",
    "    return res"
   ]
  },
  {
   "cell_type": "code",
   "execution_count": 96,
   "metadata": {},
   "outputs": [
    {
     "data": {
      "text/latex": [
       "$\\displaystyle \\pi g \\left(\\theta\\left(- g + g_{f}\\right) + \\frac{g_{f}^{2} \\theta\\left(g - g_{f}\\right)}{g^{2}}\\right)$"
      ],
      "text/plain": [
       "pi*g*(Heaviside(-g + g_f) + g_f**2*Heaviside(g - g_f)/g**2)"
      ]
     },
     "execution_count": 96,
     "metadata": {},
     "output_type": "execute_result"
    }
   ],
   "source": [
    "angular_integral(1,0,q=0,dom=-1)"
   ]
  },
  {
   "cell_type": "code",
   "execution_count": 97,
   "metadata": {},
   "outputs": [
    {
     "data": {
      "text/latex": [
       "$\\displaystyle \\Lambda$"
      ],
      "text/plain": [
       "\\Lambda"
      ]
     },
     "execution_count": 97,
     "metadata": {},
     "output_type": "execute_result"
    }
   ],
   "source": [
    "V_dot_g"
   ]
  },
  {
   "cell_type": "code",
   "execution_count": 98,
   "metadata": {},
   "outputs": [
    {
     "data": {
      "text/latex": [
       "$\\displaystyle \\alpha$"
      ],
      "text/plain": [
       "alpha"
      ]
     },
     "execution_count": 98,
     "metadata": {},
     "output_type": "execute_result"
    }
   ],
   "source": [
    "alp"
   ]
  },
  {
   "cell_type": "code",
   "execution_count": 101,
   "metadata": {},
   "outputs": [
    {
     "data": {
      "text/latex": [
       "$\\displaystyle \\frac{2 \\mu_{1}}{u_{2}^{2}} - \\frac{2 \\mu_{2}}{u_{1}^{2}}$"
      ],
      "text/plain": [
       "2*\\mu_1/u_2**2 - 2*\\mu_2/u_1**2"
      ]
     },
     "execution_count": 101,
     "metadata": {},
     "output_type": "execute_result"
    }
   ],
   "source": [
    "A = 1/u1**2+1/u2**2\n",
    "B = mu2**2/u1**2+mu1**2/u2**2\n",
    "R = 2*mu1/u2**2-2*mu2/u1**2"
   ]
  },
  {
   "cell_type": "code",
   "execution_count": 112,
   "metadata": {},
   "outputs": [
    {
     "data": {
      "text/latex": [
       "$\\displaystyle \\frac{4 \\mu_{1}^{2}}{u_{1}^{2} u_{2}^{2}} + \\frac{8 \\mu_{1} \\mu_{2}}{u_{1}^{2} u_{2}^{2}} + \\frac{4 \\mu_{2}^{2}}{u_{1}^{2} u_{2}^{2}}$"
      ],
      "text/plain": [
       "4*\\mu_1**2/(u_1**2*u_2**2) + 8*\\mu_1*\\mu_2/(u_1**2*u_2**2) + 4*\\mu_2**2/(u_1**2*u_2**2)"
      ]
     },
     "execution_count": 112,
     "metadata": {},
     "output_type": "execute_result"
    }
   ],
   "source": [
    "lm = 4*A*B-R**2\n",
    "lm.simplify().expand().subs([(mu1+mu2,1)])"
   ]
  },
  {
   "cell_type": "code",
   "execution_count": null,
   "metadata": {},
   "outputs": [],
   "source": []
  }
 ],
 "metadata": {
  "kernelspec": {
   "display_name": "sci",
   "language": "python",
   "name": "python3"
  },
  "language_info": {
   "codemirror_mode": {
    "name": "ipython",
    "version": 3
   },
   "file_extension": ".py",
   "mimetype": "text/x-python",
   "name": "python",
   "nbconvert_exporter": "python",
   "pygments_lexer": "ipython3",
   "version": "3.11.6"
  }
 },
 "nbformat": 4,
 "nbformat_minor": 2
}
