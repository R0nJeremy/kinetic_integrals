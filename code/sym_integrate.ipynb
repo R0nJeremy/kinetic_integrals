{
 "cells": [
  {
   "cell_type": "code",
   "execution_count": 1,
   "metadata": {},
   "outputs": [],
   "source": [
    "import sympy as sp \n",
    "from sympy import exp, Integral, oo, Rational, pi, sqrt, factorial, factorial2\n",
    "import matplotlib.pyplot as plt\n",
    "import scienceplots\n",
    "import numpy as np\n",
    "\n",
    "plt.style.use(['science', 'notebook'])"
   ]
  },
  {
   "cell_type": "code",
   "execution_count": 22,
   "metadata": {},
   "outputs": [],
   "source": [
    "A, B, C, R, g, V, lm, ga, gf, x, V_dot_g, alp, u1, u2, mu1, mu2, mu, gam, T1, T2, m1, m2 = sp.symbols(f'A B C R g V \\lambda g_a g_f x \\Lambda alpha u_1 u_2 \\mu_1 \\mu_2 \\mu \\gamma T_1 T_2 m_1 m_2', positive=True, real = True)\n",
    "l, k, m = sp.symbols(f'l k m', negative=False, integer = True)"
   ]
  },
  {
   "cell_type": "code",
   "execution_count": 3,
   "metadata": {},
   "outputs": [],
   "source": [
    "def Cnk(n,k):\n",
    "    return factorial(n)/(factorial(k)*factorial(n-k))"
   ]
  },
  {
   "cell_type": "markdown",
   "metadata": {},
   "source": [
    "Implementation of the angular integrals, given by Eqs. (100) and (101) in the draft.\n",
    " * When dom>0, the fragmentative integral is performed\n",
    " * When dom<0, the restitutive integral is performed\n",
    " * When dom=0, the aggregative integral, e.g. no domain restriction is performed"
   ]
  },
  {
   "cell_type": "code",
   "execution_count": 4,
   "metadata": {},
   "outputs": [],
   "source": [
    "def angular_integral(m,p,q=0,dom=0):\n",
    "    if (q != 0) and (q != 1):\n",
    "        return \"q has to be either 0 or 1\"\n",
    "    I_mpq0 = (-1)**(p+q)*(V_dot_g)**q*2*pi*g**(m+p-q)/(m+p+q+1)\n",
    "    Frag_dom = (1-(gf/g)**(m+p+q+1))*sp.Heaviside(g-gf)\n",
    "    Rest_dom = sp.Heaviside(gf-g)+sp.Heaviside(g-gf)*(gf/g)**(m+p+q+1)\n",
    "    if dom==0:\n",
    "        res = I_mpq0\n",
    "    elif dom > 0:\n",
    "        res = I_mpq0 * Frag_dom\n",
    "    else:\n",
    "        res = I_mpq0 * Rest_dom\n",
    "    return res"
   ]
  },
  {
   "cell_type": "markdown",
   "metadata": {},
   "source": [
    "An example of the angular integral\n",
    "$$\n",
    "    I^{m,p,q}_{\\hat{n},r}=\\int d\\hat{n}\\Theta(-\\vec{g}\\cdot\\hat{n})\n",
    "    \\vert\\vec{g}\\cdot\\hat{n}\\vert^m(\\vec{g}\\cdot\\hat{n})^p(\\vec{V}\\cdot\\hat{n})^q\n",
    "    \\Theta(g_f^2-(\\vec{g}\\cdot\\hat{n})^2),\n",
    "$$\n",
    "for specific values of $m,p,q$ is shown"
   ]
  },
  {
   "cell_type": "code",
   "execution_count": 5,
   "metadata": {},
   "outputs": [
    {
     "data": {
      "text/latex": [
       "$\\displaystyle \\frac{\\pi \\Lambda g \\left(\\theta\\left(- g + g_{f}\\right) + \\frac{g_{f}^{4} \\theta\\left(g - g_{f}\\right)}{g^{4}}\\right)}{2}$"
      ],
      "text/plain": [
       "pi*\\Lambda*g*(Heaviside(-g + g_f) + g_f**4*Heaviside(g - g_f)/g**4)/2"
      ]
     },
     "execution_count": 5,
     "metadata": {},
     "output_type": "execute_result"
    }
   ],
   "source": [
    "angular_integral(m=1,p=1,q=1,dom=-1)"
   ]
  },
  {
   "cell_type": "markdown",
   "metadata": {},
   "source": [
    "Implementation of the center of mass velocity integrals, given by Eq. (134) in the draft."
   ]
  },
  {
   "cell_type": "code",
   "execution_count": 6,
   "metadata": {},
   "outputs": [],
   "source": [
    "def CoM_integral(l,q=0):\n",
    "    if (q != 0) and (q != 1):\n",
    "        return \"q has to be either 0 or 1\"\n",
    "    C = (2/R)**q*(pi/A)**Rational(3,2)*exp(lm**2)/(A**l)\n",
    "    T1 = q*(factorial2(2*l+1)/(2**(l+1)))    \n",
    "    T2 = 0\n",
    "    for k in range(0, l+1):        \n",
    "        F1 = factorial2(2*k-1)/(2**k)\n",
    "        F2 = lm**(2*l-2*k)\n",
    "        F3 = (lm**2*(l+1)/(l-k+1)-Rational(1,2))**q\n",
    "        T2 += Cnk(2*l+1,2*k)*F1*F2*F3        \n",
    "    res = C*(T1+T2)\n",
    "    return res.simplify()"
   ]
  },
  {
   "cell_type": "code",
   "execution_count": 7,
   "metadata": {},
   "outputs": [
    {
     "data": {
      "text/latex": [
       "$\\displaystyle \\frac{\\pi^{\\frac{3}{2}} \\left(\\lambda^{2} + \\frac{3}{2}\\right) e^{\\lambda^{2}}}{A^{\\frac{5}{2}}}$"
      ],
      "text/plain": [
       "pi**(3/2)*(\\lambda**2 + 3/2)*exp(\\lambda**2)/A**(5/2)"
      ]
     },
     "execution_count": 7,
     "metadata": {},
     "output_type": "execute_result"
    }
   ],
   "source": [
    "CoM_integral(l=1,q=0)"
   ]
  },
  {
   "cell_type": "code",
   "execution_count": 8,
   "metadata": {},
   "outputs": [],
   "source": [
    "def I_agg_g(n):\n",
    "    return Integral(g**n*exp(-C*g**2),(g,0,ga))\n",
    "\n",
    "def I_res_g_mid(n):\n",
    "    return Integral(g**n*exp(-C*g**2),(g,ga,gf))\n",
    "\n",
    "def I_res_g_top(n):\n",
    "    return Integral(g**n*exp(-C*g**2),(g,gf,oo))\n",
    "\n",
    "def I_frag_g(n):\n",
    "    return Integral(g**n*exp(-C*g**2),(g,gf,oo))"
   ]
  },
  {
   "cell_type": "code",
   "execution_count": 9,
   "metadata": {},
   "outputs": [
    {
     "data": {
      "text/latex": [
       "$\\displaystyle - \\left(- \\frac{3}{2} + \\frac{R^{2} g_{f}^{2}}{4 A}\\right) \\int\\limits_{g_{f}}^{\\infty} g^{3} e^{- C g^{2}}\\, dg + \\left(- \\frac{A \\gamma}{2} + \\frac{R^{2}}{4 A}\\right) \\int\\limits_{g_{f}}^{\\infty} g^{5} e^{- C g^{2}}\\, dg - \\left(\\frac{A \\gamma g_{f}^{4}}{2} + \\frac{3 g_{f}^{2}}{2}\\right) \\int\\limits_{g_{f}}^{\\infty} g e^{- C g^{2}}\\, dg$"
      ],
      "text/plain": [
       "-(-3/2 + R**2*g_f**2/(4*A))*Integral(g**3*exp(-C*g**2), (g, g_f, oo)) + (-A*\\gamma/2 + R**2/(4*A))*Integral(g**5*exp(-C*g**2), (g, g_f, oo)) - (A*\\gamma*g_f**4/2 + 3*g_f**2/2)*Integral(g*exp(-C*g**2), (g, g_f, oo))"
      ]
     },
     "execution_count": 9,
     "metadata": {},
     "output_type": "execute_result"
    }
   ],
   "source": [
    "P1 = R**2/(4*A)-gam*A/2\n",
    "P2 = R**2*gf**2/(4*A)-Rational(3,2)\n",
    "P3 = Rational(3,2)*gf**2+gam*A*gf**4/2\n",
    "T0 = P1*I_frag_g(5)-P2*I_frag_g(3)-P3*I_frag_g(1)\n",
    "T0"
   ]
  },
  {
   "cell_type": "code",
   "execution_count": 10,
   "metadata": {},
   "outputs": [
    {
     "data": {
      "text/latex": [
       "$\\displaystyle \\frac{\\left(- 4 A^{2} C^{2} \\gamma g_{f}^{4} - 4 A^{2} C \\gamma g_{f}^{2} - 4 A^{2} \\gamma + 6 A C + C R^{2} g_{f}^{2} + 2 R^{2}\\right) e^{- C g_{f}^{2}}}{8 A C^{3}}$"
      ],
      "text/plain": [
       "(-4*A**2*C**2*\\gamma*g_f**4 - 4*A**2*C*\\gamma*g_f**2 - 4*A**2*\\gamma + 6*A*C + C*R**2*g_f**2 + 2*R**2)*exp(-C*g_f**2)/(8*A*C**3)"
      ]
     },
     "execution_count": 10,
     "metadata": {},
     "output_type": "execute_result"
    }
   ],
   "source": [
    "T0.doit().simplify()"
   ]
  },
  {
   "cell_type": "code",
   "execution_count": 11,
   "metadata": {},
   "outputs": [
    {
     "data": {
      "text/latex": [
       "$\\displaystyle - \\frac{3 g_{f}^{2} \\int\\limits_{g_{f}}^{\\infty} g e^{- C g^{2}}\\, dg}{2} - \\left(g_{f}^{2} \\left(A \\mu_{2}^{2} + R \\mu_{2} + \\frac{R^{2}}{4 A}\\right) - \\frac{3}{2}\\right) \\int\\limits_{g_{f}}^{\\infty} g^{3} e^{- C g^{2}}\\, dg + \\left(A \\mu_{2}^{2} + R \\mu_{2} + \\frac{R^{2}}{4 A}\\right) \\int\\limits_{g_{f}}^{\\infty} g^{5} e^{- C g^{2}}\\, dg$"
      ],
      "text/plain": [
       "-3*g_f**2*Integral(g*exp(-C*g**2), (g, g_f, oo))/2 - (g_f**2*(A*\\mu_2**2 + R*\\mu_2 + R**2/(4*A)) - 3/2)*Integral(g**3*exp(-C*g**2), (g, g_f, oo)) + (A*\\mu_2**2 + R*\\mu_2 + R**2/(4*A))*Integral(g**5*exp(-C*g**2), (g, g_f, oo))"
      ]
     },
     "execution_count": 11,
     "metadata": {},
     "output_type": "execute_result"
    }
   ],
   "source": [
    "Q1 = R**2/(4*A)+mu2**2*A+mu2*R\n",
    "Q2 = Q1*gf**2-Rational(3,2)\n",
    "Q3 = 3*gf**2/2\n",
    "Tk = Q1*I_frag_g(5)-Q2*I_frag_g(3)-Q3*I_frag_g(1)\n",
    "Tk"
   ]
  },
  {
   "cell_type": "code",
   "execution_count": 12,
   "metadata": {},
   "outputs": [
    {
     "data": {
      "text/latex": [
       "$\\displaystyle \\frac{\\left(\\frac{A^{2} C \\mu_{2}^{2} g_{f}^{2}}{2} + A^{2} \\mu_{2}^{2} + \\frac{A C R \\mu_{2} g_{f}^{2}}{2} + \\frac{3 A C}{4} + A R \\mu_{2} + \\frac{C R^{2} g_{f}^{2}}{8} + \\frac{R^{2}}{4}\\right) e^{- C g_{f}^{2}}}{A C^{3}}$"
      ],
      "text/plain": [
       "(A**2*C*\\mu_2**2*g_f**2/2 + A**2*\\mu_2**2 + A*C*R*\\mu_2*g_f**2/2 + 3*A*C/4 + A*R*\\mu_2 + C*R**2*g_f**2/8 + R**2/4)*exp(-C*g_f**2)/(A*C**3)"
      ]
     },
     "execution_count": 12,
     "metadata": {},
     "output_type": "execute_result"
    }
   ],
   "source": [
    "Tk.doit().simplify()"
   ]
  },
  {
   "cell_type": "code",
   "execution_count": 13,
   "metadata": {},
   "outputs": [
    {
     "data": {
      "text/latex": [
       "$\\displaystyle \\frac{2 \\pi^{\\frac{3}{2}} \\lambda^{2} e^{\\lambda^{2}}}{A^{\\frac{3}{2}} R}$"
      ],
      "text/plain": [
       "2*pi**(3/2)*\\lambda**2*exp(\\lambda**2)/(A**(3/2)*R)"
      ]
     },
     "execution_count": 13,
     "metadata": {},
     "output_type": "execute_result"
    }
   ],
   "source": [
    "CoM_integral(0,1)"
   ]
  },
  {
   "cell_type": "code",
   "execution_count": 14,
   "metadata": {},
   "outputs": [
    {
     "data": {
      "text/latex": [
       "$\\displaystyle \\frac{\\pi^{\\frac{3}{2}} g^{2} e^{\\lambda^{2}}}{A^{\\frac{3}{2}}}$"
      ],
      "text/plain": [
       "pi**(3/2)*g**2*exp(\\lambda**2)/A**(3/2)"
      ]
     },
     "execution_count": 14,
     "metadata": {},
     "output_type": "execute_result"
    }
   ],
   "source": [
    "g**2*CoM_integral(0,0)"
   ]
  },
  {
   "cell_type": "code",
   "execution_count": 15,
   "metadata": {},
   "outputs": [
    {
     "data": {
      "text/latex": [
       "$\\displaystyle \\frac{\\pi^{\\frac{3}{2}} \\mu_{2}^{2} g^{2} e^{\\lambda^{2}}}{A^{\\frac{3}{2}}} + \\frac{4 \\pi^{\\frac{3}{2}} \\lambda^{2} \\mu_{2} e^{\\lambda^{2}}}{A^{\\frac{3}{2}} R} + \\frac{\\pi^{\\frac{3}{2}} \\left(\\lambda^{2} + \\frac{3}{2}\\right) e^{\\lambda^{2}}}{A^{\\frac{5}{2}}}$"
      ],
      "text/plain": [
       "pi**(3/2)*\\mu_2**2*g**2*exp(\\lambda**2)/A**(3/2) + 4*pi**(3/2)*\\lambda**2*\\mu_2*exp(\\lambda**2)/(A**(3/2)*R) + pi**(3/2)*(\\lambda**2 + 3/2)*exp(\\lambda**2)/A**(5/2)"
      ]
     },
     "execution_count": 15,
     "metadata": {},
     "output_type": "execute_result"
    }
   ],
   "source": [
    "CoM_integral(1,0)+2*mu2*CoM_integral(0,1)+mu2**2*g**2*CoM_integral(0,0)"
   ]
  },
  {
   "cell_type": "code",
   "execution_count": 16,
   "metadata": {},
   "outputs": [
    {
     "data": {
      "text/latex": [
       "$\\displaystyle \\frac{\\pi^{\\frac{3}{2}} \\left(A R \\mu_{2}^{2} g^{2} + R^{2} \\mu_{2} g^{2} + \\frac{R \\left(3 + \\frac{R^{2} g^{2}}{2 A}\\right)}{2}\\right) e^{\\frac{R^{2} g^{2}}{4 A}}}{A^{\\frac{5}{2}} R}$"
      ],
      "text/plain": [
       "pi**(3/2)*(A*R*\\mu_2**2*g**2 + R**2*\\mu_2*g**2 + R*(3 + R**2*g**2/(2*A))/2)*exp(R**2*g**2/(4*A))/(A**(5/2)*R)"
      ]
     },
     "execution_count": 16,
     "metadata": {},
     "output_type": "execute_result"
    }
   ],
   "source": [
    "(CoM_integral(1,0)+2*mu2*CoM_integral(0,1)+mu2**2*g**2*CoM_integral(0,0)).simplify().subs([(lm,R*g/(2*sqrt(A)))])"
   ]
  },
  {
   "cell_type": "code",
   "execution_count": 29,
   "metadata": {},
   "outputs": [
    {
     "data": {
      "text/latex": [
       "$\\displaystyle \\frac{m_{1} m_{2} \\left(\\mu_{1}^{2} + 2 \\mu_{1} \\mu_{2} + \\mu_{2}^{2}\\right)}{2 \\left(T_{1} m_{2} + T_{2} m_{1}\\right)}$"
      ],
      "text/plain": [
       "m_1*m_2*(\\mu_1**2 + 2*\\mu_1*\\mu_2 + \\mu_2**2)/(2*(T_1*m_2 + T_2*m_1))"
      ]
     },
     "execution_count": 29,
     "metadata": {},
     "output_type": "execute_result"
    }
   ],
   "source": [
    "u1 = sqrt(2*T1/m1)\n",
    "u2 = sqrt(2*T2/m2)\n",
    "A = 1/u1**2+1/u2**2\n",
    "B = mu2**2/u1**2+mu1**2/u2**2\n",
    "R = 2*mu1/u2**2-2*mu2/u1**2\n",
    "C = ((4*A*B-R**2)/(4*A)).simplify()\n",
    "C"
   ]
  },
  {
   "cell_type": "code",
   "execution_count": 35,
   "metadata": {},
   "outputs": [
    {
     "data": {
      "text/latex": [
       "$\\displaystyle \\frac{4 T_{1} m_{2}}{T_{2} m_{1}}$"
      ],
      "text/plain": [
       "4*T_1*m_2/(T_2*m_1)"
      ]
     },
     "execution_count": 35,
     "metadata": {},
     "output_type": "execute_result"
    }
   ],
   "source": [
    "((R+2*mu2*A)**2/(A*C)).simplify()"
   ]
  },
  {
   "cell_type": "code",
   "execution_count": 65,
   "metadata": {},
   "outputs": [
    {
     "data": {
      "text/latex": [
       "$\\displaystyle \\frac{2 \\pi^{\\frac{3}{2}} \\lambda^{2} \\mu_{2} u_{1}^{5} u_{2}^{5} e^{\\lambda^{2}}}{\\left(u_{1}^{2} + u_{2}^{2}\\right)^{\\frac{3}{2}} \\left(\\mu_{1} u_{1}^{2} - \\mu_{2} u_{2}^{2}\\right)} + \\frac{\\pi^{\\frac{3}{2}} \\mu_{2}^{2} g^{2} u_{1}^{3} u_{2}^{3} e^{\\lambda^{2}}}{\\left(u_{1}^{2} + u_{2}^{2}\\right)^{\\frac{3}{2}}} + \\frac{\\pi^{\\frac{3}{2}} u_{1}^{5} u_{2}^{5} \\left(\\lambda^{2} + \\frac{3}{2}\\right) e^{\\lambda^{2}}}{\\left(u_{1}^{2} + u_{2}^{2}\\right)^{\\frac{5}{2}}}$"
      ],
      "text/plain": [
       "2*pi**(3/2)*\\lambda**2*\\mu_2*u_1**5*u_2**5*exp(\\lambda**2)/((u_1**2 + u_2**2)**(3/2)*(\\mu_1*u_1**2 - \\mu_2*u_2**2)) + pi**(3/2)*\\mu_2**2*g**2*u_1**3*u_2**3*exp(\\lambda**2)/(u_1**2 + u_2**2)**(3/2) + pi**(3/2)*u_1**5*u_2**5*(\\lambda**2 + 3/2)*exp(\\lambda**2)/(u_1**2 + u_2**2)**(5/2)"
      ]
     },
     "execution_count": 65,
     "metadata": {},
     "output_type": "execute_result"
    }
   ],
   "source": [
    "CoM_integral(1,0)+2*mu2*CoM_integral(0,1)+mu2**2*g**2*CoM_integral(0,0)"
   ]
  },
  {
   "cell_type": "code",
   "execution_count": 109,
   "metadata": {},
   "outputs": [],
   "source": [
    "g_agg = 5.0\n",
    "T = np.arange(0.1,30,0.1)\n",
    "theta = g_agg**2/(2*T)\n",
    "f = theta**2*np.exp(-theta)/(2*(1-(1+theta)*np.exp(-theta)))"
   ]
  },
  {
   "cell_type": "code",
   "execution_count": 112,
   "metadata": {},
   "outputs": [
    {
     "data": {
      "image/png": "[encoded data removed]",
      "text/plain": [
       "<Figure size 800x600 with 1 Axes>"
      ]
     },
     "metadata": {},
     "output_type": "display_data"
    }
   ],
   "source": [
    "plt.plot(T, f)\n",
    "plt.xlabel(f'T')\n",
    "plt.ylabel(f'f(T)')\n",
    "plt.savefig('f_T.png')"
   ]
  },
  {
   "cell_type": "code",
   "execution_count": null,
   "metadata": {},
   "outputs": [],
   "source": []
  }
 ],
 "metadata": {
  "kernelspec": {
   "display_name": "sci",
   "language": "python",
   "name": "python3"
  },
  "language_info": {
   "codemirror_mode": {
    "name": "ipython",
    "version": 3
   },
   "file_extension": ".py",
   "mimetype": "text/x-python",
   "name": "python",
   "nbconvert_exporter": "python",
   "pygments_lexer": "ipython3",
   "version": "3.9.18"
  }
 },
 "nbformat": 4,
 "nbformat_minor": 2
}
